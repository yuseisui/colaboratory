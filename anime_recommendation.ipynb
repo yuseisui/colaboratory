{
  "nbformat": 4,
  "nbformat_minor": 0,
  "metadata": {
    "colab": {
      "name": "anime_recommendation.ipynb",
      "provenance": [],
      "collapsed_sections": [],
      "authorship_tag": "ABX9TyOiH6TxsuoniUCfIUhaLepz",
      "include_colab_link": true
    },
    "kernelspec": {
      "name": "python3",
      "display_name": "Python 3"
    },
    "language_info": {
      "name": "python"
    }
  },
  "cells": [
    {
      "cell_type": "markdown",
      "metadata": {
        "id": "view-in-github",
        "colab_type": "text"
      },
      "source": [
        "<a href=\"https://colab.research.google.com/github/yuseisui/colaboratory/blob/main/anime_recommendation.ipynb\" target=\"_parent\"><img src=\"https://colab.research.google.com/assets/colab-badge.svg\" alt=\"Open In Colab\"/></a>"
      ]
    },
    {
      "cell_type": "markdown",
      "metadata": {
        "id": "jXCXl_bSecaO"
      },
      "source": [
        "# 「Turi Createによるアニメのレコメンド」やっていき"
      ]
    },
    {
      "cell_type": "markdown",
      "metadata": {
        "id": "CZYUPu1W1gPB"
      },
      "source": [
        "## データセットの準備\n",
        "\n",
        "Kaggleにサインイン後，「[Anime Recommendation Database 2020](https://www.kaggle.com/hernan4444/anime-recommendation-database-2020)」から「rating_complete.csv」と「anime.csv」をダウンロードして，[Google Colab](https://colab.research.google.com/)にアップロードする．"
      ]
    },
    {
      "cell_type": "markdown",
      "metadata": {
        "id": "cii65y-R5b5i"
      },
      "source": [
        "## Turi Createのインストール"
      ]
    },
    {
      "cell_type": "code",
      "metadata": {
        "id": "VVo_sUv1PsaD"
      },
      "source": [
        "!pip install turicreate"
      ],
      "execution_count": null,
      "outputs": []
    },
    {
      "cell_type": "markdown",
      "metadata": {
        "id": "RsNObEbL58RG"
      },
      "source": [
        "## データセットの読み込み"
      ]
    },
    {
      "cell_type": "code",
      "metadata": {
        "id": "RUws3Ek0irJQ"
      },
      "source": [
        "import turicreate as tc"
      ],
      "execution_count": 1,
      "outputs": []
    },
    {
      "cell_type": "code",
      "metadata": {
        "id": "Iw28im1xi7aW",
        "colab": {
          "base_uri": "https://localhost:8080/",
          "height": 544
        },
        "outputId": "f3dc71e6-f25f-4140-c072-610a6e24b89a"
      },
      "source": [
        "actions = tc.SFrame.read_csv('rating_complete.csv')\n",
        "actions.head()"
      ],
      "execution_count": 2,
      "outputs": [
        {
          "output_type": "display_data",
          "data": {
            "text/html": [
              "<pre>Read 100 lines. Lines per second: 43.0866</pre>"
            ],
            "text/plain": [
              "Read 100 lines. Lines per second: 43.0866"
            ]
          },
          "metadata": {}
        },
        {
          "output_type": "display_data",
          "data": {
            "text/html": [
              "<pre>Finished parsing file /content/rating_complete.csv</pre>"
            ],
            "text/plain": [
              "Finished parsing file /content/rating_complete.csv"
            ]
          },
          "metadata": {}
        },
        {
          "output_type": "display_data",
          "data": {
            "text/html": [
              "<pre>Parsing completed. Parsed 100 lines in 2.32106 secs.</pre>"
            ],
            "text/plain": [
              "Parsing completed. Parsed 100 lines in 2.32106 secs."
            ]
          },
          "metadata": {}
        },
        {
          "output_type": "stream",
          "name": "stdout",
          "text": [
            "------------------------------------------------------\n",
            "Inferred types from first 100 line(s) of file as \n",
            "column_type_hints=[int,int,int]\n",
            "If parsing fails due to incorrect types, you can correct\n",
            "the inferred type list above and pass it to read_csv in\n",
            "the column_type_hints argument\n",
            "------------------------------------------------------\n"
          ]
        },
        {
          "output_type": "display_data",
          "data": {
            "text/html": [
              "<pre>Read 4012662 lines. Lines per second: 1.12602e+06</pre>"
            ],
            "text/plain": [
              "Read 4012662 lines. Lines per second: 1.12602e+06"
            ]
          },
          "metadata": {}
        },
        {
          "output_type": "display_data",
          "data": {
            "text/html": [
              "<pre>Successfully parsed 2 tokens: \n",
              "\t0: 62703\n",
              "\t1: 272</pre>"
            ],
            "text/plain": [
              "Successfully parsed 2 tokens: \n",
              "\t0: 62703\n",
              "\t1: 272"
            ]
          },
          "metadata": {}
        },
        {
          "output_type": "display_data",
          "data": {
            "text/html": [
              "<pre>1 lines failed to parse correctly</pre>"
            ],
            "text/plain": [
              "1 lines failed to parse correctly"
            ]
          },
          "metadata": {}
        },
        {
          "output_type": "display_data",
          "data": {
            "text/html": [
              "<pre>Finished parsing file /content/rating_complete.csv</pre>"
            ],
            "text/plain": [
              "Finished parsing file /content/rating_complete.csv"
            ]
          },
          "metadata": {}
        },
        {
          "output_type": "display_data",
          "data": {
            "text/html": [
              "<pre>Parsing completed. Parsed 10225149 lines in 4.77669 secs.</pre>"
            ],
            "text/plain": [
              "Parsing completed. Parsed 10225149 lines in 4.77669 secs."
            ]
          },
          "metadata": {}
        },
        {
          "output_type": "execute_result",
          "data": {
            "text/html": [
              "<div style=\"max-height:1000px;max-width:1500px;overflow:auto;\"><table frame=\"box\" rules=\"cols\">\n",
              "    <tr>\n",
              "        <th style=\"padding-left: 1em; padding-right: 1em; text-align: center\">user_id</th>\n",
              "        <th style=\"padding-left: 1em; padding-right: 1em; text-align: center\">anime_id</th>\n",
              "        <th style=\"padding-left: 1em; padding-right: 1em; text-align: center\">rating</th>\n",
              "    </tr>\n",
              "    <tr>\n",
              "        <td style=\"padding-left: 1em; padding-right: 1em; text-align: center; vertical-align: top\">0</td>\n",
              "        <td style=\"padding-left: 1em; padding-right: 1em; text-align: center; vertical-align: top\">430</td>\n",
              "        <td style=\"padding-left: 1em; padding-right: 1em; text-align: center; vertical-align: top\">9</td>\n",
              "    </tr>\n",
              "    <tr>\n",
              "        <td style=\"padding-left: 1em; padding-right: 1em; text-align: center; vertical-align: top\">0</td>\n",
              "        <td style=\"padding-left: 1em; padding-right: 1em; text-align: center; vertical-align: top\">1004</td>\n",
              "        <td style=\"padding-left: 1em; padding-right: 1em; text-align: center; vertical-align: top\">5</td>\n",
              "    </tr>\n",
              "    <tr>\n",
              "        <td style=\"padding-left: 1em; padding-right: 1em; text-align: center; vertical-align: top\">0</td>\n",
              "        <td style=\"padding-left: 1em; padding-right: 1em; text-align: center; vertical-align: top\">3010</td>\n",
              "        <td style=\"padding-left: 1em; padding-right: 1em; text-align: center; vertical-align: top\">7</td>\n",
              "    </tr>\n",
              "    <tr>\n",
              "        <td style=\"padding-left: 1em; padding-right: 1em; text-align: center; vertical-align: top\">0</td>\n",
              "        <td style=\"padding-left: 1em; padding-right: 1em; text-align: center; vertical-align: top\">570</td>\n",
              "        <td style=\"padding-left: 1em; padding-right: 1em; text-align: center; vertical-align: top\">7</td>\n",
              "    </tr>\n",
              "    <tr>\n",
              "        <td style=\"padding-left: 1em; padding-right: 1em; text-align: center; vertical-align: top\">0</td>\n",
              "        <td style=\"padding-left: 1em; padding-right: 1em; text-align: center; vertical-align: top\">2762</td>\n",
              "        <td style=\"padding-left: 1em; padding-right: 1em; text-align: center; vertical-align: top\">9</td>\n",
              "    </tr>\n",
              "    <tr>\n",
              "        <td style=\"padding-left: 1em; padding-right: 1em; text-align: center; vertical-align: top\">0</td>\n",
              "        <td style=\"padding-left: 1em; padding-right: 1em; text-align: center; vertical-align: top\">431</td>\n",
              "        <td style=\"padding-left: 1em; padding-right: 1em; text-align: center; vertical-align: top\">8</td>\n",
              "    </tr>\n",
              "    <tr>\n",
              "        <td style=\"padding-left: 1em; padding-right: 1em; text-align: center; vertical-align: top\">0</td>\n",
              "        <td style=\"padding-left: 1em; padding-right: 1em; text-align: center; vertical-align: top\">578</td>\n",
              "        <td style=\"padding-left: 1em; padding-right: 1em; text-align: center; vertical-align: top\">10</td>\n",
              "    </tr>\n",
              "    <tr>\n",
              "        <td style=\"padding-left: 1em; padding-right: 1em; text-align: center; vertical-align: top\">0</td>\n",
              "        <td style=\"padding-left: 1em; padding-right: 1em; text-align: center; vertical-align: top\">433</td>\n",
              "        <td style=\"padding-left: 1em; padding-right: 1em; text-align: center; vertical-align: top\">6</td>\n",
              "    </tr>\n",
              "    <tr>\n",
              "        <td style=\"padding-left: 1em; padding-right: 1em; text-align: center; vertical-align: top\">0</td>\n",
              "        <td style=\"padding-left: 1em; padding-right: 1em; text-align: center; vertical-align: top\">1571</td>\n",
              "        <td style=\"padding-left: 1em; padding-right: 1em; text-align: center; vertical-align: top\">10</td>\n",
              "    </tr>\n",
              "    <tr>\n",
              "        <td style=\"padding-left: 1em; padding-right: 1em; text-align: center; vertical-align: top\">0</td>\n",
              "        <td style=\"padding-left: 1em; padding-right: 1em; text-align: center; vertical-align: top\">121</td>\n",
              "        <td style=\"padding-left: 1em; padding-right: 1em; text-align: center; vertical-align: top\">9</td>\n",
              "    </tr>\n",
              "</table>\n",
              "[10 rows x 3 columns]<br/>\n",
              "</div>"
            ],
            "text/plain": [
              "Columns:\n",
              "\tuser_id\tint\n",
              "\tanime_id\tint\n",
              "\trating\tint\n",
              "\n",
              "Rows: 10\n",
              "\n",
              "Data:\n",
              "+---------+----------+--------+\n",
              "| user_id | anime_id | rating |\n",
              "+---------+----------+--------+\n",
              "|    0    |   430    |   9    |\n",
              "|    0    |   1004   |   5    |\n",
              "|    0    |   3010   |   7    |\n",
              "|    0    |   570    |   7    |\n",
              "|    0    |   2762   |   9    |\n",
              "|    0    |   431    |   8    |\n",
              "|    0    |   578    |   10   |\n",
              "|    0    |   433    |   6    |\n",
              "|    0    |   1571   |   10   |\n",
              "|    0    |   121    |   9    |\n",
              "+---------+----------+--------+\n",
              "[10 rows x 3 columns]"
            ]
          },
          "metadata": {},
          "execution_count": 2
        }
      ]
    },
    {
      "cell_type": "code",
      "metadata": {
        "id": "5Z361FaLDwfl",
        "colab": {
          "base_uri": "https://localhost:8080/",
          "height": 1000
        },
        "outputId": "cb80b4af-2c35-46ee-9cd8-a2a33e738074"
      },
      "source": [
        "items = tc.SFrame.read_csv('anime.csv')\n",
        "items.head()"
      ],
      "execution_count": 3,
      "outputs": [
        {
          "output_type": "display_data",
          "data": {
            "text/html": [
              "<pre>Finished parsing file /content/anime.csv</pre>"
            ],
            "text/plain": [
              "Finished parsing file /content/anime.csv"
            ]
          },
          "metadata": {}
        },
        {
          "output_type": "display_data",
          "data": {
            "text/html": [
              "<pre>Parsing completed. Parsed 100 lines in 0.296299 secs.</pre>"
            ],
            "text/plain": [
              "Parsing completed. Parsed 100 lines in 0.296299 secs."
            ]
          },
          "metadata": {}
        },
        {
          "output_type": "stream",
          "name": "stdout",
          "text": [
            "------------------------------------------------------\n",
            "Inferred types from first 100 line(s) of file as \n",
            "column_type_hints=[int,str,float,str,str,str,str,str,str,str,str,str,str,str,str,str,float,int,int,int,int,int,int,int,int,float,float,float,float,float,float,float,float,float,float]\n",
            "If parsing fails due to incorrect types, you can correct\n",
            "the inferred type list above and pass it to read_csv in\n",
            "the column_type_hints argument\n",
            "------------------------------------------------------\n"
          ]
        },
        {
          "output_type": "display_data",
          "data": {
            "text/html": [
              "<pre>Unable to interpret \"Unknown\" as a integer\n",
              "Parse failed at token ending at: \n",
              "\tnknown,Unknown,Original,30 min. per ep.,Rx - Hentai,Unknown,\u001b[1;31m^\u001b[0m8469,2308,4,148,1072,100,122,866,51.0,42.0,89.0,\n",
              "Successfully parsed 16 tokens: \n",
              "\t0: 188\n",
              "\t1: Gosenzo San'e\n",
              "\t2: 6.11\n",
              "\t3: Comedy, He ... pernatural\n",
              "\t4: Masquerade\n",
              "\t5: 御先祖賛江\n",
              "\t6: OVA\n",
              "\t7: 4\n",
              "\t8: Sep 25, 19 ... r 25, 1999\n",
              "\t9: Unknown\n",
              "\t10: AIC, Green ... ertainment\n",
              "\t11: Unknown\n",
              "\t12: Unknown\n",
              "\t13: Original\n",
              "\t14: 30 min. per ep.\n",
              "\t15: Rx - Hentai</pre>"
            ],
            "text/plain": [
              "Unable to interpret \"Unknown\" as a integer\n",
              "Parse failed at token ending at: \n",
              "\tnknown,Unknown,Original,30 min. per ep.,Rx - Hentai,Unknown,\u001b[1;31m^\u001b[0m8469,2308,4,148,1072,100,122,866,51.0,42.0,89.0,\n",
              "Successfully parsed 16 tokens: \n",
              "\t0: 188\n",
              "\t1: Gosenzo San'e\n",
              "\t2: 6.11\n",
              "\t3: Comedy, He ... pernatural\n",
              "\t4: Masquerade\n",
              "\t5: 御先祖賛江\n",
              "\t6: OVA\n",
              "\t7: 4\n",
              "\t8: Sep 25, 19 ... r 25, 1999\n",
              "\t9: Unknown\n",
              "\t10: AIC, Green ... ertainment\n",
              "\t11: Unknown\n",
              "\t12: Unknown\n",
              "\t13: Original\n",
              "\t14: 30 min. per ep.\n",
              "\t15: Rx - Hentai"
            ]
          },
          "metadata": {}
        },
        {
          "output_type": "display_data",
          "data": {
            "text/html": [
              "<pre>Unable to interpret \"Unknown\" as a integer\n",
              "Parse failed at token ending at: \n",
              "\tgital,Arms,Visual novel,30 min. per ep.,Rx - Hentai,Unknown,\u001b[1;31m^\u001b[0m5518,7447,38,391,4406,264,265,2121,211.0,291.0,6\n",
              "Successfully parsed 16 tokens: \n",
              "\t0: 203\n",
              "\t1: Words Worth\n",
              "\t2: 6.75\n",
              "\t3: Adventure, ... c, Fantasy\n",
              "\t4: Unknown\n",
              "\t5: ワーズ・ワース\n",
              "\t6: OVA\n",
              "\t7: 5\n",
              "\t8: Aug 25, 19 ... v 25, 2000\n",
              "\t9: Unknown\n",
              "\t10: Green Bunny\n",
              "\t11: NuTech Digital\n",
              "\t12: Arms\n",
              "\t13: Visual novel\n",
              "\t14: 30 min. per ep.\n",
              "\t15: Rx - Hentai</pre>"
            ],
            "text/plain": [
              "Unable to interpret \"Unknown\" as a integer\n",
              "Parse failed at token ending at: \n",
              "\tgital,Arms,Visual novel,30 min. per ep.,Rx - Hentai,Unknown,\u001b[1;31m^\u001b[0m5518,7447,38,391,4406,264,265,2121,211.0,291.0,6\n",
              "Successfully parsed 16 tokens: \n",
              "\t0: 203\n",
              "\t1: Words Worth\n",
              "\t2: 6.75\n",
              "\t3: Adventure, ... c, Fantasy\n",
              "\t4: Unknown\n",
              "\t5: ワーズ・ワース\n",
              "\t6: OVA\n",
              "\t7: 5\n",
              "\t8: Aug 25, 19 ... v 25, 2000\n",
              "\t9: Unknown\n",
              "\t10: Green Bunny\n",
              "\t11: NuTech Digital\n",
              "\t12: Arms\n",
              "\t13: Visual novel\n",
              "\t14: 30 min. per ep.\n",
              "\t15: Rx - Hentai"
            ]
          },
          "metadata": {}
        },
        {
          "output_type": "display_data",
          "data": {
            "text/html": [
              "<pre>Unable to interpret \"Unknown\" as a integer\n",
              "Parse failed at token ending at: \n",
              "\tia,Unknown,Visual novel,30 min. per ep.,Rx - Hentai,Unknown,\u001b[1;31m^\u001b[0m7731,3114,14,177,1834,112,122,869,64.0,71.0,165.\n",
              "Successfully parsed 16 tokens: \n",
              "\t0: 211\n",
              "\t1: Pure Mail\n",
              "\t2: 6.26\n",
              "\t3: Hentai\n",
              "\t4: Unknown\n",
              "\t5: ピュアメール\n",
              "\t6: OVA\n",
              "\t7: 2\n",
              "\t8: Sep 25, 20 ... c 21, 2001\n",
              "\t9: Unknown\n",
              "\t10: Pink Pinea ... reen Bunny\n",
              "\t11: Adult Source Media\n",
              "\t12: Unknown\n",
              "\t13: Visual novel\n",
              "\t14: 30 min. per ep.\n",
              "\t15: Rx - Hentai</pre>"
            ],
            "text/plain": [
              "Unable to interpret \"Unknown\" as a integer\n",
              "Parse failed at token ending at: \n",
              "\tia,Unknown,Visual novel,30 min. per ep.,Rx - Hentai,Unknown,\u001b[1;31m^\u001b[0m7731,3114,14,177,1834,112,122,869,64.0,71.0,165.\n",
              "Successfully parsed 16 tokens: \n",
              "\t0: 211\n",
              "\t1: Pure Mail\n",
              "\t2: 6.26\n",
              "\t3: Hentai\n",
              "\t4: Unknown\n",
              "\t5: ピュアメール\n",
              "\t6: OVA\n",
              "\t7: 2\n",
              "\t8: Sep 25, 20 ... c 21, 2001\n",
              "\t9: Unknown\n",
              "\t10: Pink Pinea ... reen Bunny\n",
              "\t11: Adult Source Media\n",
              "\t12: Unknown\n",
              "\t13: Visual novel\n",
              "\t14: 30 min. per ep.\n",
              "\t15: Rx - Hentai"
            ]
          },
          "metadata": {}
        },
        {
          "output_type": "stream",
          "name": "stderr",
          "text": [
            "Exception ignored in: 'turicreate._cython.cy_server.print_status'\n",
            "Exception ignored in: 'turicreate._cython.cy_server.print_status'\n"
          ]
        },
        {
          "output_type": "display_data",
          "data": {
            "text/html": [
              "<pre>Unable to interpret \"Unknown\" as a integer\n",
              "Parse failed at token ending at: \n",
              "\tictures,Unknown,Unknown,30 min. per ep.,Rx - Hentai,Unknown,\u001b[1;31m^\u001b[0m8362,2432,13,192,1125,105,141,869,53.0,47.0,92.0\n",
              "Successfully parsed 16 tokens: \n",
              "\t0: 217\n",
              "\t1: Shin Angel\n",
              "\t2: 6.28\n",
              "\t3: Comedy, Dr ... i, Romance\n",
              "\t4: New Angel\n",
              "\t5: 新エンジェル\n",
              "\t6: OVA\n",
              "\t7: 5\n",
              "\t8: Oct 21, 19 ... v 22, 1995\n",
              "\t9: Unknown\n",
              "\t10: Pink Pinea ... udio Tulip\n",
              "\t11: SoftCel Pictures\n",
              "\t12: Unknown\n",
              "\t13: Unknown\n",
              "\t14: 30 min. per ep.\n",
              "\t15: Rx - Hentai</pre>"
            ],
            "text/plain": [
              "Unable to interpret \"Unknown\" as a integer\n",
              "Parse failed at token ending at: \n",
              "\tictures,Unknown,Unknown,30 min. per ep.,Rx - Hentai,Unknown,\u001b[1;31m^\u001b[0m8362,2432,13,192,1125,105,141,869,53.0,47.0,92.0\n",
              "Successfully parsed 16 tokens: \n",
              "\t0: 217\n",
              "\t1: Shin Angel\n",
              "\t2: 6.28\n",
              "\t3: Comedy, Dr ... i, Romance\n",
              "\t4: New Angel\n",
              "\t5: 新エンジェル\n",
              "\t6: OVA\n",
              "\t7: 5\n",
              "\t8: Oct 21, 19 ... v 22, 1995\n",
              "\t9: Unknown\n",
              "\t10: Pink Pinea ... udio Tulip\n",
              "\t11: SoftCel Pictures\n",
              "\t12: Unknown\n",
              "\t13: Unknown\n",
              "\t14: 30 min. per ep.\n",
              "\t15: Rx - Hentai"
            ]
          },
          "metadata": {}
        },
        {
          "output_type": "display_data",
          "data": {
            "text/html": [
              "<pre>Unable to interpret \"Unknown\" as a integer\n",
              "Parse failed at token ending at: \n",
              "\tUnknown,Unknown,Unknown,30 min. per ep.,Rx - Hentai,Unknown,\u001b[1;31m^\u001b[0m8552,2254,7,123,1163,101,119,748,31.0,26.0,94.0,\n",
              "Successfully parsed 16 tokens: \n",
              "\t0: 220\n",
              "\t1: Kuro no Danshou\n",
              "\t2: 5.76\n",
              "\t3: Hentai, Horror\n",
              "\t4: Mystery of ... cronomicon\n",
              "\t5: 黒の断章\n",
              "\t6: OVA\n",
              "\t7: 4\n",
              "\t8: Oct 29, 19 ... p 25, 2000\n",
              "\t9: Unknown\n",
              "\t10: Discovery\n",
              "\t11: Unknown\n",
              "\t12: Unknown\n",
              "\t13: Unknown\n",
              "\t14: 30 min. per ep.\n",
              "\t15: Rx - Hentai</pre>"
            ],
            "text/plain": [
              "Unable to interpret \"Unknown\" as a integer\n",
              "Parse failed at token ending at: \n",
              "\tUnknown,Unknown,Unknown,30 min. per ep.,Rx - Hentai,Unknown,\u001b[1;31m^\u001b[0m8552,2254,7,123,1163,101,119,748,31.0,26.0,94.0,\n",
              "Successfully parsed 16 tokens: \n",
              "\t0: 220\n",
              "\t1: Kuro no Danshou\n",
              "\t2: 5.76\n",
              "\t3: Hentai, Horror\n",
              "\t4: Mystery of ... cronomicon\n",
              "\t5: 黒の断章\n",
              "\t6: OVA\n",
              "\t7: 4\n",
              "\t8: Oct 29, 19 ... p 25, 2000\n",
              "\t9: Unknown\n",
              "\t10: Discovery\n",
              "\t11: Unknown\n",
              "\t12: Unknown\n",
              "\t13: Unknown\n",
              "\t14: 30 min. per ep.\n",
              "\t15: Rx - Hentai"
            ]
          },
          "metadata": {}
        },
        {
          "output_type": "display_data",
          "data": {
            "text/html": [
              "<pre>Unable to interpret \"Unknown\" as a integer\n",
              "Parse failed at token ending at: \n",
              "\tPictures\",Arms,Original,30 min. per ep.,Rx - Hentai,Unknown,\u001b[1;31m^\u001b[0m3299,24730,93,753,16749,358,324,6546,539.0,828.0\n",
              "Successfully parsed 16 tokens: \n",
              "\t0: 221\n",
              "\t1: Mezzo Forte\n",
              "\t2: 6.65\n",
              "\t3: Action, Co ... ai, Sci-Fi\n",
              "\t4: Unknown\n",
              "\t5: メゾフォルテ\n",
              "\t6: OVA\n",
              "\t7: 2\n",
              "\t8: May 25, 20 ... n 25, 2001\n",
              "\t9: Unknown\n",
              "\t10: Green Bunny\n",
              "\t11: Media Blas ... l Pictures\n",
              "\t12: Arms\n",
              "\t13: Original\n",
              "\t14: 30 min. per ep.\n",
              "\t15: Rx - Hentai</pre>"
            ],
            "text/plain": [
              "Unable to interpret \"Unknown\" as a integer\n",
              "Parse failed at token ending at: \n",
              "\tPictures\",Arms,Original,30 min. per ep.,Rx - Hentai,Unknown,\u001b[1;31m^\u001b[0m3299,24730,93,753,16749,358,324,6546,539.0,828.0\n",
              "Successfully parsed 16 tokens: \n",
              "\t0: 221\n",
              "\t1: Mezzo Forte\n",
              "\t2: 6.65\n",
              "\t3: Action, Co ... ai, Sci-Fi\n",
              "\t4: Unknown\n",
              "\t5: メゾフォルテ\n",
              "\t6: OVA\n",
              "\t7: 2\n",
              "\t8: May 25, 20 ... n 25, 2001\n",
              "\t9: Unknown\n",
              "\t10: Green Bunny\n",
              "\t11: Media Blas ... l Pictures\n",
              "\t12: Arms\n",
              "\t13: Original\n",
              "\t14: 30 min. per ep.\n",
              "\t15: Rx - Hentai"
            ]
          },
          "metadata": {}
        },
        {
          "output_type": "stream",
          "name": "stderr",
          "text": [
            "Exception ignored in: 'turicreate._cython.cy_server.print_status'\n"
          ]
        },
        {
          "output_type": "display_data",
          "data": {
            "text/html": [
              "<pre>Unable to interpret \"Unknown\" as a integer\n",
              "Parse failed at token ending at: \n",
              "\t Blasters,Arms,Original,26 min. per ep.,Rx - Hentai,Unknown,\u001b[1;31m^\u001b[0m2294,48597,214,1219,33238,568,617,12955,1131.0,1\n",
              "Successfully parsed 16 tokens: \n",
              "\t0: 320\n",
              "\t1: A Kite\n",
              "\t2: 6.56\n",
              "\t3: Action, He ... ice, Drama\n",
              "\t4: Kite\n",
              "\t5: A KITE（カイト）\n",
              "\t6: OVA\n",
              "\t7: 2\n",
              "\t8: Feb 25, 19 ... t 25, 1998\n",
              "\t9: Unknown\n",
              "\t10: Green Bunn ... ertainment\n",
              "\t11: Media Blasters\n",
              "\t12: Arms\n",
              "\t13: Original\n",
              "\t14: 26 min. per ep.\n",
              "\t15: Rx - Hentai</pre>"
            ],
            "text/plain": [
              "Unable to interpret \"Unknown\" as a integer\n",
              "Parse failed at token ending at: \n",
              "\t Blasters,Arms,Original,26 min. per ep.,Rx - Hentai,Unknown,\u001b[1;31m^\u001b[0m2294,48597,214,1219,33238,568,617,12955,1131.0,1\n",
              "Successfully parsed 16 tokens: \n",
              "\t0: 320\n",
              "\t1: A Kite\n",
              "\t2: 6.56\n",
              "\t3: Action, He ... ice, Drama\n",
              "\t4: Kite\n",
              "\t5: A KITE（カイト）\n",
              "\t6: OVA\n",
              "\t7: 2\n",
              "\t8: Feb 25, 19 ... t 25, 1998\n",
              "\t9: Unknown\n",
              "\t10: Green Bunn ... ertainment\n",
              "\t11: Media Blasters\n",
              "\t12: Arms\n",
              "\t13: Original\n",
              "\t14: 26 min. per ep.\n",
              "\t15: Rx - Hentai"
            ]
          },
          "metadata": {}
        },
        {
          "output_type": "display_data",
          "data": {
            "text/html": [
              "<pre>6794 lines failed to parse correctly</pre>"
            ],
            "text/plain": [
              "6794 lines failed to parse correctly"
            ]
          },
          "metadata": {}
        },
        {
          "output_type": "display_data",
          "data": {
            "text/html": [
              "<pre>Finished parsing file /content/anime.csv</pre>"
            ],
            "text/plain": [
              "Finished parsing file /content/anime.csv"
            ]
          },
          "metadata": {}
        },
        {
          "output_type": "display_data",
          "data": {
            "text/html": [
              "<pre>Parsing completed. Parsed 10768 lines in 0.218006 secs.</pre>"
            ],
            "text/plain": [
              "Parsing completed. Parsed 10768 lines in 0.218006 secs."
            ]
          },
          "metadata": {}
        },
        {
          "output_type": "execute_result",
          "data": {
            "text/html": [
              "<div style=\"max-height:1000px;max-width:1500px;overflow:auto;\"><table frame=\"box\" rules=\"cols\">\n",
              "    <tr>\n",
              "        <th style=\"padding-left: 1em; padding-right: 1em; text-align: center\">MAL_ID</th>\n",
              "        <th style=\"padding-left: 1em; padding-right: 1em; text-align: center\">Name</th>\n",
              "        <th style=\"padding-left: 1em; padding-right: 1em; text-align: center\">Score</th>\n",
              "        <th style=\"padding-left: 1em; padding-right: 1em; text-align: center\">Genres</th>\n",
              "        <th style=\"padding-left: 1em; padding-right: 1em; text-align: center\">English name</th>\n",
              "    </tr>\n",
              "    <tr>\n",
              "        <td style=\"padding-left: 1em; padding-right: 1em; text-align: center; vertical-align: top\">1</td>\n",
              "        <td style=\"padding-left: 1em; padding-right: 1em; text-align: center; vertical-align: top\">Cowboy Bebop</td>\n",
              "        <td style=\"padding-left: 1em; padding-right: 1em; text-align: center; vertical-align: top\">8.78</td>\n",
              "        <td style=\"padding-left: 1em; padding-right: 1em; text-align: center; vertical-align: top\">Action, Adventure,<br>Comedy, Drama, Sci-Fi, ...</td>\n",
              "        <td style=\"padding-left: 1em; padding-right: 1em; text-align: center; vertical-align: top\">Cowboy Bebop</td>\n",
              "    </tr>\n",
              "    <tr>\n",
              "        <td style=\"padding-left: 1em; padding-right: 1em; text-align: center; vertical-align: top\">5</td>\n",
              "        <td style=\"padding-left: 1em; padding-right: 1em; text-align: center; vertical-align: top\">Cowboy Bebop: Tengoku no<br>Tobira ...</td>\n",
              "        <td style=\"padding-left: 1em; padding-right: 1em; text-align: center; vertical-align: top\">8.39</td>\n",
              "        <td style=\"padding-left: 1em; padding-right: 1em; text-align: center; vertical-align: top\">Action, Drama, Mystery,<br>Sci-Fi, Space ...</td>\n",
              "        <td style=\"padding-left: 1em; padding-right: 1em; text-align: center; vertical-align: top\">Cowboy Bebop:The Movie</td>\n",
              "    </tr>\n",
              "    <tr>\n",
              "        <td style=\"padding-left: 1em; padding-right: 1em; text-align: center; vertical-align: top\">6</td>\n",
              "        <td style=\"padding-left: 1em; padding-right: 1em; text-align: center; vertical-align: top\">Trigun</td>\n",
              "        <td style=\"padding-left: 1em; padding-right: 1em; text-align: center; vertical-align: top\">8.24</td>\n",
              "        <td style=\"padding-left: 1em; padding-right: 1em; text-align: center; vertical-align: top\">Action, Sci-Fi,<br>Adventure, Comedy, Dr ...</td>\n",
              "        <td style=\"padding-left: 1em; padding-right: 1em; text-align: center; vertical-align: top\">Trigun</td>\n",
              "    </tr>\n",
              "    <tr>\n",
              "        <td style=\"padding-left: 1em; padding-right: 1em; text-align: center; vertical-align: top\">7</td>\n",
              "        <td style=\"padding-left: 1em; padding-right: 1em; text-align: center; vertical-align: top\">Witch Hunter Robin</td>\n",
              "        <td style=\"padding-left: 1em; padding-right: 1em; text-align: center; vertical-align: top\">7.27</td>\n",
              "        <td style=\"padding-left: 1em; padding-right: 1em; text-align: center; vertical-align: top\">Action, Mystery, Police,<br>Supernatural, Drama, ...</td>\n",
              "        <td style=\"padding-left: 1em; padding-right: 1em; text-align: center; vertical-align: top\">Witch Hunter Robin</td>\n",
              "    </tr>\n",
              "    <tr>\n",
              "        <td style=\"padding-left: 1em; padding-right: 1em; text-align: center; vertical-align: top\">8</td>\n",
              "        <td style=\"padding-left: 1em; padding-right: 1em; text-align: center; vertical-align: top\">Bouken Ou Beet</td>\n",
              "        <td style=\"padding-left: 1em; padding-right: 1em; text-align: center; vertical-align: top\">6.98</td>\n",
              "        <td style=\"padding-left: 1em; padding-right: 1em; text-align: center; vertical-align: top\">Adventure, Fantasy,<br>Shounen, Supernatural ...</td>\n",
              "        <td style=\"padding-left: 1em; padding-right: 1em; text-align: center; vertical-align: top\">Beet the Vandel Buster</td>\n",
              "    </tr>\n",
              "    <tr>\n",
              "        <td style=\"padding-left: 1em; padding-right: 1em; text-align: center; vertical-align: top\">15</td>\n",
              "        <td style=\"padding-left: 1em; padding-right: 1em; text-align: center; vertical-align: top\">Eyeshield 21</td>\n",
              "        <td style=\"padding-left: 1em; padding-right: 1em; text-align: center; vertical-align: top\">7.95</td>\n",
              "        <td style=\"padding-left: 1em; padding-right: 1em; text-align: center; vertical-align: top\">Action, Sports, Comedy,<br>Shounen ...</td>\n",
              "        <td style=\"padding-left: 1em; padding-right: 1em; text-align: center; vertical-align: top\">Unknown</td>\n",
              "    </tr>\n",
              "    <tr>\n",
              "        <td style=\"padding-left: 1em; padding-right: 1em; text-align: center; vertical-align: top\">16</td>\n",
              "        <td style=\"padding-left: 1em; padding-right: 1em; text-align: center; vertical-align: top\">Hachimitsu to Clover</td>\n",
              "        <td style=\"padding-left: 1em; padding-right: 1em; text-align: center; vertical-align: top\">8.06</td>\n",
              "        <td style=\"padding-left: 1em; padding-right: 1em; text-align: center; vertical-align: top\">Comedy, Drama, Josei,<br>Romance, Slice of Life ...</td>\n",
              "        <td style=\"padding-left: 1em; padding-right: 1em; text-align: center; vertical-align: top\">Honey and Clover</td>\n",
              "    </tr>\n",
              "    <tr>\n",
              "        <td style=\"padding-left: 1em; padding-right: 1em; text-align: center; vertical-align: top\">17</td>\n",
              "        <td style=\"padding-left: 1em; padding-right: 1em; text-align: center; vertical-align: top\">Hungry Heart: Wild<br>Striker ...</td>\n",
              "        <td style=\"padding-left: 1em; padding-right: 1em; text-align: center; vertical-align: top\">7.59</td>\n",
              "        <td style=\"padding-left: 1em; padding-right: 1em; text-align: center; vertical-align: top\">Slice of Life, Comedy,<br>Sports, Shounen ...</td>\n",
              "        <td style=\"padding-left: 1em; padding-right: 1em; text-align: center; vertical-align: top\">Unknown</td>\n",
              "    </tr>\n",
              "    <tr>\n",
              "        <td style=\"padding-left: 1em; padding-right: 1em; text-align: center; vertical-align: top\">18</td>\n",
              "        <td style=\"padding-left: 1em; padding-right: 1em; text-align: center; vertical-align: top\">Initial D Fourth Stage</td>\n",
              "        <td style=\"padding-left: 1em; padding-right: 1em; text-align: center; vertical-align: top\">8.15</td>\n",
              "        <td style=\"padding-left: 1em; padding-right: 1em; text-align: center; vertical-align: top\">Action, Cars, Sports,<br>Drama, Seinen ...</td>\n",
              "        <td style=\"padding-left: 1em; padding-right: 1em; text-align: center; vertical-align: top\">Unknown</td>\n",
              "    </tr>\n",
              "    <tr>\n",
              "        <td style=\"padding-left: 1em; padding-right: 1em; text-align: center; vertical-align: top\">19</td>\n",
              "        <td style=\"padding-left: 1em; padding-right: 1em; text-align: center; vertical-align: top\">Monster</td>\n",
              "        <td style=\"padding-left: 1em; padding-right: 1em; text-align: center; vertical-align: top\">8.76</td>\n",
              "        <td style=\"padding-left: 1em; padding-right: 1em; text-align: center; vertical-align: top\">Drama, Horror, Mystery,<br>Police, Psychological, ...</td>\n",
              "        <td style=\"padding-left: 1em; padding-right: 1em; text-align: center; vertical-align: top\">Monster</td>\n",
              "    </tr>\n",
              "</table>\n",
              "<table frame=\"box\" rules=\"cols\">\n",
              "    <tr>\n",
              "        <th style=\"padding-left: 1em; padding-right: 1em; text-align: center\">Japanese name</th>\n",
              "        <th style=\"padding-left: 1em; padding-right: 1em; text-align: center\">Type</th>\n",
              "        <th style=\"padding-left: 1em; padding-right: 1em; text-align: center\">Episodes</th>\n",
              "        <th style=\"padding-left: 1em; padding-right: 1em; text-align: center\">Aired</th>\n",
              "        <th style=\"padding-left: 1em; padding-right: 1em; text-align: center\">Premiered</th>\n",
              "    </tr>\n",
              "    <tr>\n",
              "        <td style=\"padding-left: 1em; padding-right: 1em; text-align: center; vertical-align: top\">カウボーイビバップ</td>\n",
              "        <td style=\"padding-left: 1em; padding-right: 1em; text-align: center; vertical-align: top\">TV</td>\n",
              "        <td style=\"padding-left: 1em; padding-right: 1em; text-align: center; vertical-align: top\">26</td>\n",
              "        <td style=\"padding-left: 1em; padding-right: 1em; text-align: center; vertical-align: top\">Apr 3, 1998 to Apr 24,<br>1999 ...</td>\n",
              "        <td style=\"padding-left: 1em; padding-right: 1em; text-align: center; vertical-align: top\">Spring 1998</td>\n",
              "    </tr>\n",
              "    <tr>\n",
              "        <td style=\"padding-left: 1em; padding-right: 1em; text-align: center; vertical-align: top\">カウボーイビバップ 天国の扉</td>\n",
              "        <td style=\"padding-left: 1em; padding-right: 1em; text-align: center; vertical-align: top\">Movie</td>\n",
              "        <td style=\"padding-left: 1em; padding-right: 1em; text-align: center; vertical-align: top\">1</td>\n",
              "        <td style=\"padding-left: 1em; padding-right: 1em; text-align: center; vertical-align: top\">Sep 1, 2001</td>\n",
              "        <td style=\"padding-left: 1em; padding-right: 1em; text-align: center; vertical-align: top\">Unknown</td>\n",
              "    </tr>\n",
              "    <tr>\n",
              "        <td style=\"padding-left: 1em; padding-right: 1em; text-align: center; vertical-align: top\">トライガン</td>\n",
              "        <td style=\"padding-left: 1em; padding-right: 1em; text-align: center; vertical-align: top\">TV</td>\n",
              "        <td style=\"padding-left: 1em; padding-right: 1em; text-align: center; vertical-align: top\">26</td>\n",
              "        <td style=\"padding-left: 1em; padding-right: 1em; text-align: center; vertical-align: top\">Apr 1, 1998 to Sep 30,<br>1998 ...</td>\n",
              "        <td style=\"padding-left: 1em; padding-right: 1em; text-align: center; vertical-align: top\">Spring 1998</td>\n",
              "    </tr>\n",
              "    <tr>\n",
              "        <td style=\"padding-left: 1em; padding-right: 1em; text-align: center; vertical-align: top\">Witch Hunter ROBIN<br>(ウイッチハンターロビン) ...</td>\n",
              "        <td style=\"padding-left: 1em; padding-right: 1em; text-align: center; vertical-align: top\">TV</td>\n",
              "        <td style=\"padding-left: 1em; padding-right: 1em; text-align: center; vertical-align: top\">26</td>\n",
              "        <td style=\"padding-left: 1em; padding-right: 1em; text-align: center; vertical-align: top\">Jul 2, 2002 to Dec 24,<br>2002 ...</td>\n",
              "        <td style=\"padding-left: 1em; padding-right: 1em; text-align: center; vertical-align: top\">Summer 2002</td>\n",
              "    </tr>\n",
              "    <tr>\n",
              "        <td style=\"padding-left: 1em; padding-right: 1em; text-align: center; vertical-align: top\">冒険王ビィト</td>\n",
              "        <td style=\"padding-left: 1em; padding-right: 1em; text-align: center; vertical-align: top\">TV</td>\n",
              "        <td style=\"padding-left: 1em; padding-right: 1em; text-align: center; vertical-align: top\">52</td>\n",
              "        <td style=\"padding-left: 1em; padding-right: 1em; text-align: center; vertical-align: top\">Sep 30, 2004 to Sep 29,<br>2005 ...</td>\n",
              "        <td style=\"padding-left: 1em; padding-right: 1em; text-align: center; vertical-align: top\">Fall 2004</td>\n",
              "    </tr>\n",
              "    <tr>\n",
              "        <td style=\"padding-left: 1em; padding-right: 1em; text-align: center; vertical-align: top\">アイシールド21</td>\n",
              "        <td style=\"padding-left: 1em; padding-right: 1em; text-align: center; vertical-align: top\">TV</td>\n",
              "        <td style=\"padding-left: 1em; padding-right: 1em; text-align: center; vertical-align: top\">145</td>\n",
              "        <td style=\"padding-left: 1em; padding-right: 1em; text-align: center; vertical-align: top\">Apr 6, 2005 to Mar 19,<br>2008 ...</td>\n",
              "        <td style=\"padding-left: 1em; padding-right: 1em; text-align: center; vertical-align: top\">Spring 2005</td>\n",
              "    </tr>\n",
              "    <tr>\n",
              "        <td style=\"padding-left: 1em; padding-right: 1em; text-align: center; vertical-align: top\">ハチミツとクローバー</td>\n",
              "        <td style=\"padding-left: 1em; padding-right: 1em; text-align: center; vertical-align: top\">TV</td>\n",
              "        <td style=\"padding-left: 1em; padding-right: 1em; text-align: center; vertical-align: top\">24</td>\n",
              "        <td style=\"padding-left: 1em; padding-right: 1em; text-align: center; vertical-align: top\">Apr 15, 2005 to Sep 27,<br>2005 ...</td>\n",
              "        <td style=\"padding-left: 1em; padding-right: 1em; text-align: center; vertical-align: top\">Spring 2005</td>\n",
              "    </tr>\n",
              "    <tr>\n",
              "        <td style=\"padding-left: 1em; padding-right: 1em; text-align: center; vertical-align: top\">ハングリーハート Wild Striker</td>\n",
              "        <td style=\"padding-left: 1em; padding-right: 1em; text-align: center; vertical-align: top\">TV</td>\n",
              "        <td style=\"padding-left: 1em; padding-right: 1em; text-align: center; vertical-align: top\">52</td>\n",
              "        <td style=\"padding-left: 1em; padding-right: 1em; text-align: center; vertical-align: top\">Sep 11, 2002 to Sep 10,<br>2003 ...</td>\n",
              "        <td style=\"padding-left: 1em; padding-right: 1em; text-align: center; vertical-align: top\">Fall 2002</td>\n",
              "    </tr>\n",
              "    <tr>\n",
              "        <td style=\"padding-left: 1em; padding-right: 1em; text-align: center; vertical-align: top\">頭文字〈イニシャル〉D FOURTH STAGE</td>\n",
              "        <td style=\"padding-left: 1em; padding-right: 1em; text-align: center; vertical-align: top\">TV</td>\n",
              "        <td style=\"padding-left: 1em; padding-right: 1em; text-align: center; vertical-align: top\">24</td>\n",
              "        <td style=\"padding-left: 1em; padding-right: 1em; text-align: center; vertical-align: top\">Apr 17, 2004 to Feb 18,<br>2006 ...</td>\n",
              "        <td style=\"padding-left: 1em; padding-right: 1em; text-align: center; vertical-align: top\">Spring 2004</td>\n",
              "    </tr>\n",
              "    <tr>\n",
              "        <td style=\"padding-left: 1em; padding-right: 1em; text-align: center; vertical-align: top\">モンスター</td>\n",
              "        <td style=\"padding-left: 1em; padding-right: 1em; text-align: center; vertical-align: top\">TV</td>\n",
              "        <td style=\"padding-left: 1em; padding-right: 1em; text-align: center; vertical-align: top\">74</td>\n",
              "        <td style=\"padding-left: 1em; padding-right: 1em; text-align: center; vertical-align: top\">Apr 7, 2004 to Sep 28,<br>2005 ...</td>\n",
              "        <td style=\"padding-left: 1em; padding-right: 1em; text-align: center; vertical-align: top\">Spring 2004</td>\n",
              "    </tr>\n",
              "</table>\n",
              "<table frame=\"box\" rules=\"cols\">\n",
              "    <tr>\n",
              "        <th style=\"padding-left: 1em; padding-right: 1em; text-align: center\">Producers</th>\n",
              "        <th style=\"padding-left: 1em; padding-right: 1em; text-align: center\">Licensors</th>\n",
              "        <th style=\"padding-left: 1em; padding-right: 1em; text-align: center\">Studios</th>\n",
              "        <th style=\"padding-left: 1em; padding-right: 1em; text-align: center\">Source</th>\n",
              "        <th style=\"padding-left: 1em; padding-right: 1em; text-align: center\">Duration</th>\n",
              "    </tr>\n",
              "    <tr>\n",
              "        <td style=\"padding-left: 1em; padding-right: 1em; text-align: center; vertical-align: top\">Bandai Visual</td>\n",
              "        <td style=\"padding-left: 1em; padding-right: 1em; text-align: center; vertical-align: top\">Funimation, Bandai<br>Entertainment ...</td>\n",
              "        <td style=\"padding-left: 1em; padding-right: 1em; text-align: center; vertical-align: top\">Sunrise</td>\n",
              "        <td style=\"padding-left: 1em; padding-right: 1em; text-align: center; vertical-align: top\">Original</td>\n",
              "        <td style=\"padding-left: 1em; padding-right: 1em; text-align: center; vertical-align: top\">24 min. per ep.</td>\n",
              "    </tr>\n",
              "    <tr>\n",
              "        <td style=\"padding-left: 1em; padding-right: 1em; text-align: center; vertical-align: top\">Sunrise, Bandai Visual</td>\n",
              "        <td style=\"padding-left: 1em; padding-right: 1em; text-align: center; vertical-align: top\">Sony Pictures<br>Entertainment ...</td>\n",
              "        <td style=\"padding-left: 1em; padding-right: 1em; text-align: center; vertical-align: top\">Bones</td>\n",
              "        <td style=\"padding-left: 1em; padding-right: 1em; text-align: center; vertical-align: top\">Original</td>\n",
              "        <td style=\"padding-left: 1em; padding-right: 1em; text-align: center; vertical-align: top\">1 hr. 55 min.</td>\n",
              "    </tr>\n",
              "    <tr>\n",
              "        <td style=\"padding-left: 1em; padding-right: 1em; text-align: center; vertical-align: top\">Victor Entertainment</td>\n",
              "        <td style=\"padding-left: 1em; padding-right: 1em; text-align: center; vertical-align: top\">Funimation, Geneon<br>Entertainment USA ...</td>\n",
              "        <td style=\"padding-left: 1em; padding-right: 1em; text-align: center; vertical-align: top\">Madhouse</td>\n",
              "        <td style=\"padding-left: 1em; padding-right: 1em; text-align: center; vertical-align: top\">Manga</td>\n",
              "        <td style=\"padding-left: 1em; padding-right: 1em; text-align: center; vertical-align: top\">24 min. per ep.</td>\n",
              "    </tr>\n",
              "    <tr>\n",
              "        <td style=\"padding-left: 1em; padding-right: 1em; text-align: center; vertical-align: top\">TV Tokyo, Bandai Visual,<br>Dentsu, Victor ...</td>\n",
              "        <td style=\"padding-left: 1em; padding-right: 1em; text-align: center; vertical-align: top\">Funimation, Bandai<br>Entertainment ...</td>\n",
              "        <td style=\"padding-left: 1em; padding-right: 1em; text-align: center; vertical-align: top\">Sunrise</td>\n",
              "        <td style=\"padding-left: 1em; padding-right: 1em; text-align: center; vertical-align: top\">Original</td>\n",
              "        <td style=\"padding-left: 1em; padding-right: 1em; text-align: center; vertical-align: top\">25 min. per ep.</td>\n",
              "    </tr>\n",
              "    <tr>\n",
              "        <td style=\"padding-left: 1em; padding-right: 1em; text-align: center; vertical-align: top\">TV Tokyo, Dentsu</td>\n",
              "        <td style=\"padding-left: 1em; padding-right: 1em; text-align: center; vertical-align: top\">Unknown</td>\n",
              "        <td style=\"padding-left: 1em; padding-right: 1em; text-align: center; vertical-align: top\">Toei Animation</td>\n",
              "        <td style=\"padding-left: 1em; padding-right: 1em; text-align: center; vertical-align: top\">Manga</td>\n",
              "        <td style=\"padding-left: 1em; padding-right: 1em; text-align: center; vertical-align: top\">23 min. per ep.</td>\n",
              "    </tr>\n",
              "    <tr>\n",
              "        <td style=\"padding-left: 1em; padding-right: 1em; text-align: center; vertical-align: top\">TV Tokyo, Nihon Ad<br>Systems, TV Tokyo Music, ...</td>\n",
              "        <td style=\"padding-left: 1em; padding-right: 1em; text-align: center; vertical-align: top\">VIZ Media, Sentai<br>Filmworks ...</td>\n",
              "        <td style=\"padding-left: 1em; padding-right: 1em; text-align: center; vertical-align: top\">Gallop</td>\n",
              "        <td style=\"padding-left: 1em; padding-right: 1em; text-align: center; vertical-align: top\">Manga</td>\n",
              "        <td style=\"padding-left: 1em; padding-right: 1em; text-align: center; vertical-align: top\">23 min. per ep.</td>\n",
              "    </tr>\n",
              "    <tr>\n",
              "        <td style=\"padding-left: 1em; padding-right: 1em; text-align: center; vertical-align: top\">Genco, Fuji TV, Shueisha</td>\n",
              "        <td style=\"padding-left: 1em; padding-right: 1em; text-align: center; vertical-align: top\">VIZ Media, Discotek Media</td>\n",
              "        <td style=\"padding-left: 1em; padding-right: 1em; text-align: center; vertical-align: top\">J.C.Staff</td>\n",
              "        <td style=\"padding-left: 1em; padding-right: 1em; text-align: center; vertical-align: top\">Manga</td>\n",
              "        <td style=\"padding-left: 1em; padding-right: 1em; text-align: center; vertical-align: top\">23 min. per ep.</td>\n",
              "    </tr>\n",
              "    <tr>\n",
              "        <td style=\"padding-left: 1em; padding-right: 1em; text-align: center; vertical-align: top\">Unknown</td>\n",
              "        <td style=\"padding-left: 1em; padding-right: 1em; text-align: center; vertical-align: top\">Unknown</td>\n",
              "        <td style=\"padding-left: 1em; padding-right: 1em; text-align: center; vertical-align: top\">Nippon Animation</td>\n",
              "        <td style=\"padding-left: 1em; padding-right: 1em; text-align: center; vertical-align: top\">Manga</td>\n",
              "        <td style=\"padding-left: 1em; padding-right: 1em; text-align: center; vertical-align: top\">23 min. per ep.</td>\n",
              "    </tr>\n",
              "    <tr>\n",
              "        <td style=\"padding-left: 1em; padding-right: 1em; text-align: center; vertical-align: top\">OB Planning, Studio Jack</td>\n",
              "        <td style=\"padding-left: 1em; padding-right: 1em; text-align: center; vertical-align: top\">Funimation</td>\n",
              "        <td style=\"padding-left: 1em; padding-right: 1em; text-align: center; vertical-align: top\">A.C.G.T.</td>\n",
              "        <td style=\"padding-left: 1em; padding-right: 1em; text-align: center; vertical-align: top\">Manga</td>\n",
              "        <td style=\"padding-left: 1em; padding-right: 1em; text-align: center; vertical-align: top\">27 min. per ep.</td>\n",
              "    </tr>\n",
              "    <tr>\n",
              "        <td style=\"padding-left: 1em; padding-right: 1em; text-align: center; vertical-align: top\">VAP, Shogakukan-Shueisha<br>Productions, Nippon ...</td>\n",
              "        <td style=\"padding-left: 1em; padding-right: 1em; text-align: center; vertical-align: top\">VIZ Media</td>\n",
              "        <td style=\"padding-left: 1em; padding-right: 1em; text-align: center; vertical-align: top\">Madhouse</td>\n",
              "        <td style=\"padding-left: 1em; padding-right: 1em; text-align: center; vertical-align: top\">Manga</td>\n",
              "        <td style=\"padding-left: 1em; padding-right: 1em; text-align: center; vertical-align: top\">24 min. per ep.</td>\n",
              "    </tr>\n",
              "</table>\n",
              "<table frame=\"box\" rules=\"cols\">\n",
              "    <tr>\n",
              "        <th style=\"padding-left: 1em; padding-right: 1em; text-align: center\">Rating</th>\n",
              "        <th style=\"padding-left: 1em; padding-right: 1em; text-align: center\">Ranked</th>\n",
              "        <th style=\"padding-left: 1em; padding-right: 1em; text-align: center\">Popularity</th>\n",
              "        <th style=\"padding-left: 1em; padding-right: 1em; text-align: center\">Members</th>\n",
              "        <th style=\"padding-left: 1em; padding-right: 1em; text-align: center\">Favorites</th>\n",
              "        <th style=\"padding-left: 1em; padding-right: 1em; text-align: center\">Watching</th>\n",
              "        <th style=\"padding-left: 1em; padding-right: 1em; text-align: center\">Completed</th>\n",
              "        <th style=\"padding-left: 1em; padding-right: 1em; text-align: center\">On-Hold</th>\n",
              "        <th style=\"padding-left: 1em; padding-right: 1em; text-align: center\">Dropped</th>\n",
              "    </tr>\n",
              "    <tr>\n",
              "        <td style=\"padding-left: 1em; padding-right: 1em; text-align: center; vertical-align: top\">R - 17+ (violence &amp;<br>profanity) ...</td>\n",
              "        <td style=\"padding-left: 1em; padding-right: 1em; text-align: center; vertical-align: top\">28.0</td>\n",
              "        <td style=\"padding-left: 1em; padding-right: 1em; text-align: center; vertical-align: top\">39</td>\n",
              "        <td style=\"padding-left: 1em; padding-right: 1em; text-align: center; vertical-align: top\">1251960</td>\n",
              "        <td style=\"padding-left: 1em; padding-right: 1em; text-align: center; vertical-align: top\">61971</td>\n",
              "        <td style=\"padding-left: 1em; padding-right: 1em; text-align: center; vertical-align: top\">105808</td>\n",
              "        <td style=\"padding-left: 1em; padding-right: 1em; text-align: center; vertical-align: top\">718161</td>\n",
              "        <td style=\"padding-left: 1em; padding-right: 1em; text-align: center; vertical-align: top\">71513</td>\n",
              "        <td style=\"padding-left: 1em; padding-right: 1em; text-align: center; vertical-align: top\">26678</td>\n",
              "    </tr>\n",
              "    <tr>\n",
              "        <td style=\"padding-left: 1em; padding-right: 1em; text-align: center; vertical-align: top\">R - 17+ (violence &amp;<br>profanity) ...</td>\n",
              "        <td style=\"padding-left: 1em; padding-right: 1em; text-align: center; vertical-align: top\">159.0</td>\n",
              "        <td style=\"padding-left: 1em; padding-right: 1em; text-align: center; vertical-align: top\">518</td>\n",
              "        <td style=\"padding-left: 1em; padding-right: 1em; text-align: center; vertical-align: top\">273145</td>\n",
              "        <td style=\"padding-left: 1em; padding-right: 1em; text-align: center; vertical-align: top\">1174</td>\n",
              "        <td style=\"padding-left: 1em; padding-right: 1em; text-align: center; vertical-align: top\">4143</td>\n",
              "        <td style=\"padding-left: 1em; padding-right: 1em; text-align: center; vertical-align: top\">208333</td>\n",
              "        <td style=\"padding-left: 1em; padding-right: 1em; text-align: center; vertical-align: top\">1935</td>\n",
              "        <td style=\"padding-left: 1em; padding-right: 1em; text-align: center; vertical-align: top\">770</td>\n",
              "    </tr>\n",
              "    <tr>\n",
              "        <td style=\"padding-left: 1em; padding-right: 1em; text-align: center; vertical-align: top\">PG-13 - Teens 13 or older</td>\n",
              "        <td style=\"padding-left: 1em; padding-right: 1em; text-align: center; vertical-align: top\">266.0</td>\n",
              "        <td style=\"padding-left: 1em; padding-right: 1em; text-align: center; vertical-align: top\">201</td>\n",
              "        <td style=\"padding-left: 1em; padding-right: 1em; text-align: center; vertical-align: top\">558913</td>\n",
              "        <td style=\"padding-left: 1em; padding-right: 1em; text-align: center; vertical-align: top\">12944</td>\n",
              "        <td style=\"padding-left: 1em; padding-right: 1em; text-align: center; vertical-align: top\">29113</td>\n",
              "        <td style=\"padding-left: 1em; padding-right: 1em; text-align: center; vertical-align: top\">343492</td>\n",
              "        <td style=\"padding-left: 1em; padding-right: 1em; text-align: center; vertical-align: top\">25465</td>\n",
              "        <td style=\"padding-left: 1em; padding-right: 1em; text-align: center; vertical-align: top\">13925</td>\n",
              "    </tr>\n",
              "    <tr>\n",
              "        <td style=\"padding-left: 1em; padding-right: 1em; text-align: center; vertical-align: top\">PG-13 - Teens 13 or older</td>\n",
              "        <td style=\"padding-left: 1em; padding-right: 1em; text-align: center; vertical-align: top\">2481.0</td>\n",
              "        <td style=\"padding-left: 1em; padding-right: 1em; text-align: center; vertical-align: top\">1467</td>\n",
              "        <td style=\"padding-left: 1em; padding-right: 1em; text-align: center; vertical-align: top\">94683</td>\n",
              "        <td style=\"padding-left: 1em; padding-right: 1em; text-align: center; vertical-align: top\">587</td>\n",
              "        <td style=\"padding-left: 1em; padding-right: 1em; text-align: center; vertical-align: top\">4300</td>\n",
              "        <td style=\"padding-left: 1em; padding-right: 1em; text-align: center; vertical-align: top\">46165</td>\n",
              "        <td style=\"padding-left: 1em; padding-right: 1em; text-align: center; vertical-align: top\">5121</td>\n",
              "        <td style=\"padding-left: 1em; padding-right: 1em; text-align: center; vertical-align: top\">5378</td>\n",
              "    </tr>\n",
              "    <tr>\n",
              "        <td style=\"padding-left: 1em; padding-right: 1em; text-align: center; vertical-align: top\">PG - Children</td>\n",
              "        <td style=\"padding-left: 1em; padding-right: 1em; text-align: center; vertical-align: top\">3710.0</td>\n",
              "        <td style=\"padding-left: 1em; padding-right: 1em; text-align: center; vertical-align: top\">4369</td>\n",
              "        <td style=\"padding-left: 1em; padding-right: 1em; text-align: center; vertical-align: top\">13224</td>\n",
              "        <td style=\"padding-left: 1em; padding-right: 1em; text-align: center; vertical-align: top\">18</td>\n",
              "        <td style=\"padding-left: 1em; padding-right: 1em; text-align: center; vertical-align: top\">642</td>\n",
              "        <td style=\"padding-left: 1em; padding-right: 1em; text-align: center; vertical-align: top\">7314</td>\n",
              "        <td style=\"padding-left: 1em; padding-right: 1em; text-align: center; vertical-align: top\">766</td>\n",
              "        <td style=\"padding-left: 1em; padding-right: 1em; text-align: center; vertical-align: top\">1108</td>\n",
              "    </tr>\n",
              "    <tr>\n",
              "        <td style=\"padding-left: 1em; padding-right: 1em; text-align: center; vertical-align: top\">PG-13 - Teens 13 or older</td>\n",
              "        <td style=\"padding-left: 1em; padding-right: 1em; text-align: center; vertical-align: top\">604.0</td>\n",
              "        <td style=\"padding-left: 1em; padding-right: 1em; text-align: center; vertical-align: top\">1003</td>\n",
              "        <td style=\"padding-left: 1em; padding-right: 1em; text-align: center; vertical-align: top\">148259</td>\n",
              "        <td style=\"padding-left: 1em; padding-right: 1em; text-align: center; vertical-align: top\">2066</td>\n",
              "        <td style=\"padding-left: 1em; padding-right: 1em; text-align: center; vertical-align: top\">13907</td>\n",
              "        <td style=\"padding-left: 1em; padding-right: 1em; text-align: center; vertical-align: top\">78349</td>\n",
              "        <td style=\"padding-left: 1em; padding-right: 1em; text-align: center; vertical-align: top\">14228</td>\n",
              "        <td style=\"padding-left: 1em; padding-right: 1em; text-align: center; vertical-align: top\">11573</td>\n",
              "    </tr>\n",
              "    <tr>\n",
              "        <td style=\"padding-left: 1em; padding-right: 1em; text-align: center; vertical-align: top\">PG-13 - Teens 13 or older</td>\n",
              "        <td style=\"padding-left: 1em; padding-right: 1em; text-align: center; vertical-align: top\">468.0</td>\n",
              "        <td style=\"padding-left: 1em; padding-right: 1em; text-align: center; vertical-align: top\">687</td>\n",
              "        <td style=\"padding-left: 1em; padding-right: 1em; text-align: center; vertical-align: top\">214499</td>\n",
              "        <td style=\"padding-left: 1em; padding-right: 1em; text-align: center; vertical-align: top\">4101</td>\n",
              "        <td style=\"padding-left: 1em; padding-right: 1em; text-align: center; vertical-align: top\">11909</td>\n",
              "        <td style=\"padding-left: 1em; padding-right: 1em; text-align: center; vertical-align: top\">81145</td>\n",
              "        <td style=\"padding-left: 1em; padding-right: 1em; text-align: center; vertical-align: top\">11901</td>\n",
              "        <td style=\"padding-left: 1em; padding-right: 1em; text-align: center; vertical-align: top\">11026</td>\n",
              "    </tr>\n",
              "    <tr>\n",
              "        <td style=\"padding-left: 1em; padding-right: 1em; text-align: center; vertical-align: top\">PG-13 - Teens 13 or older</td>\n",
              "        <td style=\"padding-left: 1em; padding-right: 1em; text-align: center; vertical-align: top\">1317.0</td>\n",
              "        <td style=\"padding-left: 1em; padding-right: 1em; text-align: center; vertical-align: top\">3612</td>\n",
              "        <td style=\"padding-left: 1em; padding-right: 1em; text-align: center; vertical-align: top\">20470</td>\n",
              "        <td style=\"padding-left: 1em; padding-right: 1em; text-align: center; vertical-align: top\">231</td>\n",
              "        <td style=\"padding-left: 1em; padding-right: 1em; text-align: center; vertical-align: top\">817</td>\n",
              "        <td style=\"padding-left: 1em; padding-right: 1em; text-align: center; vertical-align: top\">13778</td>\n",
              "        <td style=\"padding-left: 1em; padding-right: 1em; text-align: center; vertical-align: top\">828</td>\n",
              "        <td style=\"padding-left: 1em; padding-right: 1em; text-align: center; vertical-align: top\">1168</td>\n",
              "    </tr>\n",
              "    <tr>\n",
              "        <td style=\"padding-left: 1em; padding-right: 1em; text-align: center; vertical-align: top\">PG-13 - Teens 13 or older</td>\n",
              "        <td style=\"padding-left: 1em; padding-right: 1em; text-align: center; vertical-align: top\">360.0</td>\n",
              "        <td style=\"padding-left: 1em; padding-right: 1em; text-align: center; vertical-align: top\">1233</td>\n",
              "        <td style=\"padding-left: 1em; padding-right: 1em; text-align: center; vertical-align: top\">117929</td>\n",
              "        <td style=\"padding-left: 1em; padding-right: 1em; text-align: center; vertical-align: top\">979</td>\n",
              "        <td style=\"padding-left: 1em; padding-right: 1em; text-align: center; vertical-align: top\">6082</td>\n",
              "        <td style=\"padding-left: 1em; padding-right: 1em; text-align: center; vertical-align: top\">90967</td>\n",
              "        <td style=\"padding-left: 1em; padding-right: 1em; text-align: center; vertical-align: top\">3053</td>\n",
              "        <td style=\"padding-left: 1em; padding-right: 1em; text-align: center; vertical-align: top\">1356</td>\n",
              "    </tr>\n",
              "    <tr>\n",
              "        <td style=\"padding-left: 1em; padding-right: 1em; text-align: center; vertical-align: top\">R+ - Mild Nudity</td>\n",
              "        <td style=\"padding-left: 1em; padding-right: 1em; text-align: center; vertical-align: top\">30.0</td>\n",
              "        <td style=\"padding-left: 1em; padding-right: 1em; text-align: center; vertical-align: top\">169</td>\n",
              "        <td style=\"padding-left: 1em; padding-right: 1em; text-align: center; vertical-align: top\">614100</td>\n",
              "        <td style=\"padding-left: 1em; padding-right: 1em; text-align: center; vertical-align: top\">29436</td>\n",
              "        <td style=\"padding-left: 1em; padding-right: 1em; text-align: center; vertical-align: top\">64648</td>\n",
              "        <td style=\"padding-left: 1em; padding-right: 1em; text-align: center; vertical-align: top\">214491</td>\n",
              "        <td style=\"padding-left: 1em; padding-right: 1em; text-align: center; vertical-align: top\">47488</td>\n",
              "        <td style=\"padding-left: 1em; padding-right: 1em; text-align: center; vertical-align: top\">23008</td>\n",
              "    </tr>\n",
              "</table>\n",
              "<table frame=\"box\" rules=\"cols\">\n",
              "    <tr>\n",
              "        <th style=\"padding-left: 1em; padding-right: 1em; text-align: center\">Plan to Watch</th>\n",
              "        <th style=\"padding-left: 1em; padding-right: 1em; text-align: center\">Score-10</th>\n",
              "        <th style=\"padding-left: 1em; padding-right: 1em; text-align: center\">Score-9</th>\n",
              "        <th style=\"padding-left: 1em; padding-right: 1em; text-align: center\">Score-8</th>\n",
              "        <th style=\"padding-left: 1em; padding-right: 1em; text-align: center\">Score-7</th>\n",
              "        <th style=\"padding-left: 1em; padding-right: 1em; text-align: center\">Score-6</th>\n",
              "        <th style=\"padding-left: 1em; padding-right: 1em; text-align: center\">Score-5</th>\n",
              "        <th style=\"padding-left: 1em; padding-right: 1em; text-align: center\">Score-4</th>\n",
              "        <th style=\"padding-left: 1em; padding-right: 1em; text-align: center\">Score-3</th>\n",
              "        <th style=\"padding-left: 1em; padding-right: 1em; text-align: center\">Score-2</th>\n",
              "        <th style=\"padding-left: 1em; padding-right: 1em; text-align: center\">Score-1</th>\n",
              "    </tr>\n",
              "    <tr>\n",
              "        <td style=\"padding-left: 1em; padding-right: 1em; text-align: center; vertical-align: top\">329800</td>\n",
              "        <td style=\"padding-left: 1em; padding-right: 1em; text-align: center; vertical-align: top\">229170.0</td>\n",
              "        <td style=\"padding-left: 1em; padding-right: 1em; text-align: center; vertical-align: top\">182126.0</td>\n",
              "        <td style=\"padding-left: 1em; padding-right: 1em; text-align: center; vertical-align: top\">131625.0</td>\n",
              "        <td style=\"padding-left: 1em; padding-right: 1em; text-align: center; vertical-align: top\">62330.0</td>\n",
              "        <td style=\"padding-left: 1em; padding-right: 1em; text-align: center; vertical-align: top\">20688.0</td>\n",
              "        <td style=\"padding-left: 1em; padding-right: 1em; text-align: center; vertical-align: top\">8904.0</td>\n",
              "        <td style=\"padding-left: 1em; padding-right: 1em; text-align: center; vertical-align: top\">3184.0</td>\n",
              "        <td style=\"padding-left: 1em; padding-right: 1em; text-align: center; vertical-align: top\">1357.0</td>\n",
              "        <td style=\"padding-left: 1em; padding-right: 1em; text-align: center; vertical-align: top\">741.0</td>\n",
              "        <td style=\"padding-left: 1em; padding-right: 1em; text-align: center; vertical-align: top\">1580.0</td>\n",
              "    </tr>\n",
              "    <tr>\n",
              "        <td style=\"padding-left: 1em; padding-right: 1em; text-align: center; vertical-align: top\">57964</td>\n",
              "        <td style=\"padding-left: 1em; padding-right: 1em; text-align: center; vertical-align: top\">30043.0</td>\n",
              "        <td style=\"padding-left: 1em; padding-right: 1em; text-align: center; vertical-align: top\">49201.0</td>\n",
              "        <td style=\"padding-left: 1em; padding-right: 1em; text-align: center; vertical-align: top\">49505.0</td>\n",
              "        <td style=\"padding-left: 1em; padding-right: 1em; text-align: center; vertical-align: top\">22632.0</td>\n",
              "        <td style=\"padding-left: 1em; padding-right: 1em; text-align: center; vertical-align: top\">5805.0</td>\n",
              "        <td style=\"padding-left: 1em; padding-right: 1em; text-align: center; vertical-align: top\">1877.0</td>\n",
              "        <td style=\"padding-left: 1em; padding-right: 1em; text-align: center; vertical-align: top\">577.0</td>\n",
              "        <td style=\"padding-left: 1em; padding-right: 1em; text-align: center; vertical-align: top\">221.0</td>\n",
              "        <td style=\"padding-left: 1em; padding-right: 1em; text-align: center; vertical-align: top\">109.0</td>\n",
              "        <td style=\"padding-left: 1em; padding-right: 1em; text-align: center; vertical-align: top\">379.0</td>\n",
              "    </tr>\n",
              "    <tr>\n",
              "        <td style=\"padding-left: 1em; padding-right: 1em; text-align: center; vertical-align: top\">146918</td>\n",
              "        <td style=\"padding-left: 1em; padding-right: 1em; text-align: center; vertical-align: top\">50229.0</td>\n",
              "        <td style=\"padding-left: 1em; padding-right: 1em; text-align: center; vertical-align: top\">75651.0</td>\n",
              "        <td style=\"padding-left: 1em; padding-right: 1em; text-align: center; vertical-align: top\">86142.0</td>\n",
              "        <td style=\"padding-left: 1em; padding-right: 1em; text-align: center; vertical-align: top\">49432.0</td>\n",
              "        <td style=\"padding-left: 1em; padding-right: 1em; text-align: center; vertical-align: top\">15376.0</td>\n",
              "        <td style=\"padding-left: 1em; padding-right: 1em; text-align: center; vertical-align: top\">5838.0</td>\n",
              "        <td style=\"padding-left: 1em; padding-right: 1em; text-align: center; vertical-align: top\">1965.0</td>\n",
              "        <td style=\"padding-left: 1em; padding-right: 1em; text-align: center; vertical-align: top\">664.0</td>\n",
              "        <td style=\"padding-left: 1em; padding-right: 1em; text-align: center; vertical-align: top\">316.0</td>\n",
              "        <td style=\"padding-left: 1em; padding-right: 1em; text-align: center; vertical-align: top\">533.0</td>\n",
              "    </tr>\n",
              "    <tr>\n",
              "        <td style=\"padding-left: 1em; padding-right: 1em; text-align: center; vertical-align: top\">33719</td>\n",
              "        <td style=\"padding-left: 1em; padding-right: 1em; text-align: center; vertical-align: top\">2182.0</td>\n",
              "        <td style=\"padding-left: 1em; padding-right: 1em; text-align: center; vertical-align: top\">4806.0</td>\n",
              "        <td style=\"padding-left: 1em; padding-right: 1em; text-align: center; vertical-align: top\">10128.0</td>\n",
              "        <td style=\"padding-left: 1em; padding-right: 1em; text-align: center; vertical-align: top\">11618.0</td>\n",
              "        <td style=\"padding-left: 1em; padding-right: 1em; text-align: center; vertical-align: top\">5709.0</td>\n",
              "        <td style=\"padding-left: 1em; padding-right: 1em; text-align: center; vertical-align: top\">2920.0</td>\n",
              "        <td style=\"padding-left: 1em; padding-right: 1em; text-align: center; vertical-align: top\">1083.0</td>\n",
              "        <td style=\"padding-left: 1em; padding-right: 1em; text-align: center; vertical-align: top\">353.0</td>\n",
              "        <td style=\"padding-left: 1em; padding-right: 1em; text-align: center; vertical-align: top\">164.0</td>\n",
              "        <td style=\"padding-left: 1em; padding-right: 1em; text-align: center; vertical-align: top\">131.0</td>\n",
              "    </tr>\n",
              "    <tr>\n",
              "        <td style=\"padding-left: 1em; padding-right: 1em; text-align: center; vertical-align: top\">3394</td>\n",
              "        <td style=\"padding-left: 1em; padding-right: 1em; text-align: center; vertical-align: top\">312.0</td>\n",
              "        <td style=\"padding-left: 1em; padding-right: 1em; text-align: center; vertical-align: top\">529.0</td>\n",
              "        <td style=\"padding-left: 1em; padding-right: 1em; text-align: center; vertical-align: top\">1242.0</td>\n",
              "        <td style=\"padding-left: 1em; padding-right: 1em; text-align: center; vertical-align: top\">1713.0</td>\n",
              "        <td style=\"padding-left: 1em; padding-right: 1em; text-align: center; vertical-align: top\">1068.0</td>\n",
              "        <td style=\"padding-left: 1em; padding-right: 1em; text-align: center; vertical-align: top\">634.0</td>\n",
              "        <td style=\"padding-left: 1em; padding-right: 1em; text-align: center; vertical-align: top\">265.0</td>\n",
              "        <td style=\"padding-left: 1em; padding-right: 1em; text-align: center; vertical-align: top\">83.0</td>\n",
              "        <td style=\"padding-left: 1em; padding-right: 1em; text-align: center; vertical-align: top\">50.0</td>\n",
              "        <td style=\"padding-left: 1em; padding-right: 1em; text-align: center; vertical-align: top\">27.0</td>\n",
              "    </tr>\n",
              "    <tr>\n",
              "        <td style=\"padding-left: 1em; padding-right: 1em; text-align: center; vertical-align: top\">30202</td>\n",
              "        <td style=\"padding-left: 1em; padding-right: 1em; text-align: center; vertical-align: top\">9226.0</td>\n",
              "        <td style=\"padding-left: 1em; padding-right: 1em; text-align: center; vertical-align: top\">14904.0</td>\n",
              "        <td style=\"padding-left: 1em; padding-right: 1em; text-align: center; vertical-align: top\">22811.0</td>\n",
              "        <td style=\"padding-left: 1em; padding-right: 1em; text-align: center; vertical-align: top\">16734.0</td>\n",
              "        <td style=\"padding-left: 1em; padding-right: 1em; text-align: center; vertical-align: top\">6206.0</td>\n",
              "        <td style=\"padding-left: 1em; padding-right: 1em; text-align: center; vertical-align: top\">2621.0</td>\n",
              "        <td style=\"padding-left: 1em; padding-right: 1em; text-align: center; vertical-align: top\">795.0</td>\n",
              "        <td style=\"padding-left: 1em; padding-right: 1em; text-align: center; vertical-align: top\">336.0</td>\n",
              "        <td style=\"padding-left: 1em; padding-right: 1em; text-align: center; vertical-align: top\">140.0</td>\n",
              "        <td style=\"padding-left: 1em; padding-right: 1em; text-align: center; vertical-align: top\">151.0</td>\n",
              "    </tr>\n",
              "    <tr>\n",
              "        <td style=\"padding-left: 1em; padding-right: 1em; text-align: center; vertical-align: top\">98518</td>\n",
              "        <td style=\"padding-left: 1em; padding-right: 1em; text-align: center; vertical-align: top\">11829.0</td>\n",
              "        <td style=\"padding-left: 1em; padding-right: 1em; text-align: center; vertical-align: top\">16309.0</td>\n",
              "        <td style=\"padding-left: 1em; padding-right: 1em; text-align: center; vertical-align: top\">20008.0</td>\n",
              "        <td style=\"padding-left: 1em; padding-right: 1em; text-align: center; vertical-align: top\">13062.0</td>\n",
              "        <td style=\"padding-left: 1em; padding-right: 1em; text-align: center; vertical-align: top\">5574.0</td>\n",
              "        <td style=\"padding-left: 1em; padding-right: 1em; text-align: center; vertical-align: top\">3148.0</td>\n",
              "        <td style=\"padding-left: 1em; padding-right: 1em; text-align: center; vertical-align: top\">1339.0</td>\n",
              "        <td style=\"padding-left: 1em; padding-right: 1em; text-align: center; vertical-align: top\">484.0</td>\n",
              "        <td style=\"padding-left: 1em; padding-right: 1em; text-align: center; vertical-align: top\">278.0</td>\n",
              "        <td style=\"padding-left: 1em; padding-right: 1em; text-align: center; vertical-align: top\">321.0</td>\n",
              "    </tr>\n",
              "    <tr>\n",
              "        <td style=\"padding-left: 1em; padding-right: 1em; text-align: center; vertical-align: top\">3879</td>\n",
              "        <td style=\"padding-left: 1em; padding-right: 1em; text-align: center; vertical-align: top\">1123.0</td>\n",
              "        <td style=\"padding-left: 1em; padding-right: 1em; text-align: center; vertical-align: top\">1777.0</td>\n",
              "        <td style=\"padding-left: 1em; padding-right: 1em; text-align: center; vertical-align: top\">3102.0</td>\n",
              "        <td style=\"padding-left: 1em; padding-right: 1em; text-align: center; vertical-align: top\">3075.0</td>\n",
              "        <td style=\"padding-left: 1em; padding-right: 1em; text-align: center; vertical-align: top\">1286.0</td>\n",
              "        <td style=\"padding-left: 1em; padding-right: 1em; text-align: center; vertical-align: top\">602.0</td>\n",
              "        <td style=\"padding-left: 1em; padding-right: 1em; text-align: center; vertical-align: top\">218.0</td>\n",
              "        <td style=\"padding-left: 1em; padding-right: 1em; text-align: center; vertical-align: top\">88.0</td>\n",
              "        <td style=\"padding-left: 1em; padding-right: 1em; text-align: center; vertical-align: top\">31.0</td>\n",
              "        <td style=\"padding-left: 1em; padding-right: 1em; text-align: center; vertical-align: top\">32.0</td>\n",
              "    </tr>\n",
              "    <tr>\n",
              "        <td style=\"padding-left: 1em; padding-right: 1em; text-align: center; vertical-align: top\">16471</td>\n",
              "        <td style=\"padding-left: 1em; padding-right: 1em; text-align: center; vertical-align: top\">10948.0</td>\n",
              "        <td style=\"padding-left: 1em; padding-right: 1em; text-align: center; vertical-align: top\">15820.0</td>\n",
              "        <td style=\"padding-left: 1em; padding-right: 1em; text-align: center; vertical-align: top\">22379.0</td>\n",
              "        <td style=\"padding-left: 1em; padding-right: 1em; text-align: center; vertical-align: top\">12912.0</td>\n",
              "        <td style=\"padding-left: 1em; padding-right: 1em; text-align: center; vertical-align: top\">3874.0</td>\n",
              "        <td style=\"padding-left: 1em; padding-right: 1em; text-align: center; vertical-align: top\">1236.0</td>\n",
              "        <td style=\"padding-left: 1em; padding-right: 1em; text-align: center; vertical-align: top\">369.0</td>\n",
              "        <td style=\"padding-left: 1em; padding-right: 1em; text-align: center; vertical-align: top\">97.0</td>\n",
              "        <td style=\"padding-left: 1em; padding-right: 1em; text-align: center; vertical-align: top\">48.0</td>\n",
              "        <td style=\"padding-left: 1em; padding-right: 1em; text-align: center; vertical-align: top\">259.0</td>\n",
              "    </tr>\n",
              "    <tr>\n",
              "        <td style=\"padding-left: 1em; padding-right: 1em; text-align: center; vertical-align: top\">264465</td>\n",
              "        <td style=\"padding-left: 1em; padding-right: 1em; text-align: center; vertical-align: top\">77350.0</td>\n",
              "        <td style=\"padding-left: 1em; padding-right: 1em; text-align: center; vertical-align: top\">60652.0</td>\n",
              "        <td style=\"padding-left: 1em; padding-right: 1em; text-align: center; vertical-align: top\">43459.0</td>\n",
              "        <td style=\"padding-left: 1em; padding-right: 1em; text-align: center; vertical-align: top\">22045.0</td>\n",
              "        <td style=\"padding-left: 1em; padding-right: 1em; text-align: center; vertical-align: top\">8861.0</td>\n",
              "        <td style=\"padding-left: 1em; padding-right: 1em; text-align: center; vertical-align: top\">4381.0</td>\n",
              "        <td style=\"padding-left: 1em; padding-right: 1em; text-align: center; vertical-align: top\">2086.0</td>\n",
              "        <td style=\"padding-left: 1em; padding-right: 1em; text-align: center; vertical-align: top\">882.0</td>\n",
              "        <td style=\"padding-left: 1em; padding-right: 1em; text-align: center; vertical-align: top\">593.0</td>\n",
              "        <td style=\"padding-left: 1em; padding-right: 1em; text-align: center; vertical-align: top\">1177.0</td>\n",
              "    </tr>\n",
              "</table>\n",
              "[10 rows x 35 columns]<br/>\n",
              "</div>"
            ],
            "text/plain": [
              "Columns:\n",
              "\tMAL_ID\tint\n",
              "\tName\tstr\n",
              "\tScore\tfloat\n",
              "\tGenres\tstr\n",
              "\tEnglish name\tstr\n",
              "\tJapanese name\tstr\n",
              "\tType\tstr\n",
              "\tEpisodes\tstr\n",
              "\tAired\tstr\n",
              "\tPremiered\tstr\n",
              "\tProducers\tstr\n",
              "\tLicensors\tstr\n",
              "\tStudios\tstr\n",
              "\tSource\tstr\n",
              "\tDuration\tstr\n",
              "\tRating\tstr\n",
              "\tRanked\tfloat\n",
              "\tPopularity\tint\n",
              "\tMembers\tint\n",
              "\tFavorites\tint\n",
              "\tWatching\tint\n",
              "\tCompleted\tint\n",
              "\tOn-Hold\tint\n",
              "\tDropped\tint\n",
              "\tPlan to Watch\tint\n",
              "\tScore-10\tfloat\n",
              "\tScore-9\tfloat\n",
              "\tScore-8\tfloat\n",
              "\tScore-7\tfloat\n",
              "\tScore-6\tfloat\n",
              "\tScore-5\tfloat\n",
              "\tScore-4\tfloat\n",
              "\tScore-3\tfloat\n",
              "\tScore-2\tfloat\n",
              "\tScore-1\tfloat\n",
              "\n",
              "Rows: 10\n",
              "\n",
              "Data:\n",
              "+--------+-------------------------------+-------+\n",
              "| MAL_ID |              Name             | Score |\n",
              "+--------+-------------------------------+-------+\n",
              "|   1    |          Cowboy Bebop         |  8.78 |\n",
              "|   5    | Cowboy Bebop: Tengoku no T... |  8.39 |\n",
              "|   6    |             Trigun            |  8.24 |\n",
              "|   7    |       Witch Hunter Robin      |  7.27 |\n",
              "|   8    |         Bouken Ou Beet        |  6.98 |\n",
              "|   15   |          Eyeshield 21         |  7.95 |\n",
              "|   16   |      Hachimitsu to Clover     |  8.06 |\n",
              "|   17   |   Hungry Heart: Wild Striker  |  7.59 |\n",
              "|   18   |     Initial D Fourth Stage    |  8.15 |\n",
              "|   19   |            Monster            |  8.76 |\n",
              "+--------+-------------------------------+-------+\n",
              "+-------------------------------+------------------------+\n",
              "|             Genres            |      English name      |\n",
              "+-------------------------------+------------------------+\n",
              "| Action, Adventure, Comedy,... |      Cowboy Bebop      |\n",
              "| Action, Drama, Mystery, Sc... | Cowboy Bebop:The Movie |\n",
              "| Action, Sci-Fi, Adventure,... |         Trigun         |\n",
              "| Action, Mystery, Police, S... |   Witch Hunter Robin   |\n",
              "| Adventure, Fantasy, Shoune... | Beet the Vandel Buster |\n",
              "| Action, Sports, Comedy, Sh... |        Unknown         |\n",
              "| Comedy, Drama, Josei, Roma... |    Honey and Clover    |\n",
              "| Slice of Life, Comedy, Spo... |        Unknown         |\n",
              "| Action, Cars, Sports, Dram... |        Unknown         |\n",
              "| Drama, Horror, Mystery, Po... |        Monster         |\n",
              "+-------------------------------+------------------------+\n",
              "+-------------------------------------+-------+----------+\n",
              "|            Japanese name            |  Type | Episodes |\n",
              "+-------------------------------------+-------+----------+\n",
              "|          カウボーイビバップ         |   TV  |    26    |\n",
              "|     カウボーイビバップ 天国の扉     | Movie |    1     |\n",
              "|              トライガン             |   TV  |    26    |\n",
              "| Witch Hunter ROBIN (ウイッチハン... |   TV  |    26    |\n",
              "|             冒険王ビィト            |   TV  |    52    |\n",
              "|            アイシールド21           |   TV  |   145    |\n",
              "|         ハチミツとクローバー        |   TV  |    24    |\n",
              "|    ハングリーハート Wild Striker    |   TV  |    52    |\n",
              "|  頭文字〈イニシャル〉D FOURTH STAGE |   TV  |    24    |\n",
              "|              モンスター             |   TV  |    74    |\n",
              "+-------------------------------------+-------+----------+\n",
              "+------------------------------+-------------+-------------------------------+\n",
              "|            Aired             |  Premiered  |           Producers           |\n",
              "+------------------------------+-------------+-------------------------------+\n",
              "| Apr 3, 1998 to Apr 24, 1999  | Spring 1998 |         Bandai Visual         |\n",
              "|         Sep 1, 2001          |   Unknown   |     Sunrise, Bandai Visual    |\n",
              "| Apr 1, 1998 to Sep 30, 1998  | Spring 1998 |      Victor Entertainment     |\n",
              "| Jul 2, 2002 to Dec 24, 2002  | Summer 2002 | TV Tokyo, Bandai Visual, D... |\n",
              "| Sep 30, 2004 to Sep 29, 2005 |  Fall 2004  |        TV Tokyo, Dentsu       |\n",
              "| Apr 6, 2005 to Mar 19, 2008  | Spring 2005 | TV Tokyo, Nihon Ad Systems... |\n",
              "| Apr 15, 2005 to Sep 27, 2005 | Spring 2005 |    Genco, Fuji TV, Shueisha   |\n",
              "| Sep 11, 2002 to Sep 10, 2003 |  Fall 2002  |            Unknown            |\n",
              "| Apr 17, 2004 to Feb 18, 2006 | Spring 2004 |    OB Planning, Studio Jack   |\n",
              "| Apr 7, 2004 to Sep 28, 2005  | Spring 2004 | VAP, Shogakukan-Shueisha P... |\n",
              "+------------------------------+-------------+-------------------------------+\n",
              "+-------------------------------+------------------+----------+-----------------+\n",
              "|           Licensors           |     Studios      |  Source  |     Duration    |\n",
              "+-------------------------------+------------------+----------+-----------------+\n",
              "| Funimation, Bandai Enterta... |     Sunrise      | Original | 24 min. per ep. |\n",
              "|  Sony Pictures Entertainment  |      Bones       | Original |  1 hr. 55 min.  |\n",
              "| Funimation, Geneon Enterta... |     Madhouse     |  Manga   | 24 min. per ep. |\n",
              "| Funimation, Bandai Enterta... |     Sunrise      | Original | 25 min. per ep. |\n",
              "|            Unknown            |  Toei Animation  |  Manga   | 23 min. per ep. |\n",
              "|  VIZ Media, Sentai Filmworks  |      Gallop      |  Manga   | 23 min. per ep. |\n",
              "|   VIZ Media, Discotek Media   |    J.C.Staff     |  Manga   | 23 min. per ep. |\n",
              "|            Unknown            | Nippon Animation |  Manga   | 23 min. per ep. |\n",
              "|           Funimation          |     A.C.G.T.     |  Manga   | 27 min. per ep. |\n",
              "|           VIZ Media           |     Madhouse     |  Manga   | 24 min. per ep. |\n",
              "+-------------------------------+------------------+----------+-----------------+\n",
              "+--------------------------------+--------+------------+---------+-----------+-----+\n",
              "|             Rating             | Ranked | Popularity | Members | Favorites | ... |\n",
              "+--------------------------------+--------+------------+---------+-----------+-----+\n",
              "| R - 17+ (violence & profanity) |  28.0  |     39     | 1251960 |   61971   | ... |\n",
              "| R - 17+ (violence & profanity) | 159.0  |    518     |  273145 |    1174   | ... |\n",
              "|   PG-13 - Teens 13 or older    | 266.0  |    201     |  558913 |   12944   | ... |\n",
              "|   PG-13 - Teens 13 or older    | 2481.0 |    1467    |  94683  |    587    | ... |\n",
              "|         PG - Children          | 3710.0 |    4369    |  13224  |     18    | ... |\n",
              "|   PG-13 - Teens 13 or older    | 604.0  |    1003    |  148259 |    2066   | ... |\n",
              "|   PG-13 - Teens 13 or older    | 468.0  |    687     |  214499 |    4101   | ... |\n",
              "|   PG-13 - Teens 13 or older    | 1317.0 |    3612    |  20470  |    231    | ... |\n",
              "|   PG-13 - Teens 13 or older    | 360.0  |    1233    |  117929 |    979    | ... |\n",
              "|        R+ - Mild Nudity        |  30.0  |    169     |  614100 |   29436   | ... |\n",
              "+--------------------------------+--------+------------+---------+-----------+-----+\n",
              "[10 rows x 35 columns]"
            ]
          },
          "metadata": {},
          "execution_count": 3
        }
      ]
    },
    {
      "cell_type": "markdown",
      "metadata": {
        "id": "6IcmUfkB6KRu"
      },
      "source": [
        "## レコメンドモデルの作成と実行"
      ]
    },
    {
      "cell_type": "code",
      "metadata": {
        "id": "aV6xf7M3ExCC",
        "colab": {
          "base_uri": "https://localhost:8080/",
          "height": 1000
        },
        "outputId": "6d3e05a3-99d0-4bc9-c7f9-9a810a840321"
      },
      "source": [
        "user_id = 'user_id'\n",
        "item_id = 'anime_id'\n",
        "target = 'rating'\n",
        "\n",
        "# 訓練データと検証データに分割\n",
        "training_data, validation_data = tc.recommender.util.random_split_by_user(actions, user_id, item_id)\n",
        "\n",
        "# レコメンドモデルの作成\n",
        "model = tc.recommender.create(training_data, user_id, item_id, target)\n",
        "\n",
        "# レコメンドモデルの実行\n",
        "# user_idが23，42，61の人に対するレコメンドを上位3件まで取得する\n",
        "results = model.recommend([23, 42, 61], 3)\n",
        "\n",
        "# わかりやすさのためにアニメIDをアニメ名に変換\n",
        "results[item_id] = results[item_id].apply(lambda item_id: items[items['MAL_ID'] == item_id]['Japanese name'][0])\n",
        "\n",
        "results.head()"
      ],
      "execution_count": 4,
      "outputs": [
        {
          "output_type": "display_data",
          "data": {
            "text/html": [
              "<pre>Preparing data set.</pre>"
            ],
            "text/plain": [
              "Preparing data set."
            ]
          },
          "metadata": {}
        },
        {
          "output_type": "display_data",
          "data": {
            "text/html": [
              "<pre>    Data has 10189036 observations with 54995 users and 15762 items.</pre>"
            ],
            "text/plain": [
              "    Data has 10189036 observations with 54995 users and 15762 items."
            ]
          },
          "metadata": {}
        },
        {
          "output_type": "display_data",
          "data": {
            "text/html": [
              "<pre>    Data prepared in: 10.6148s</pre>"
            ],
            "text/plain": [
              "    Data prepared in: 10.6148s"
            ]
          },
          "metadata": {}
        },
        {
          "output_type": "display_data",
          "data": {
            "text/html": [
              "<pre>Training ranking_factorization_recommender for recommendations.</pre>"
            ],
            "text/plain": [
              "Training ranking_factorization_recommender for recommendations."
            ]
          },
          "metadata": {}
        },
        {
          "output_type": "display_data",
          "data": {
            "text/html": [
              "<pre>+--------------------------------+--------------------------------------------------+----------+</pre>"
            ],
            "text/plain": [
              "+--------------------------------+--------------------------------------------------+----------+"
            ]
          },
          "metadata": {}
        },
        {
          "output_type": "display_data",
          "data": {
            "text/html": [
              "<pre>| Parameter                      | Description                                      | Value    |</pre>"
            ],
            "text/plain": [
              "| Parameter                      | Description                                      | Value    |"
            ]
          },
          "metadata": {}
        },
        {
          "output_type": "display_data",
          "data": {
            "text/html": [
              "<pre>+--------------------------------+--------------------------------------------------+----------+</pre>"
            ],
            "text/plain": [
              "+--------------------------------+--------------------------------------------------+----------+"
            ]
          },
          "metadata": {}
        },
        {
          "output_type": "display_data",
          "data": {
            "text/html": [
              "<pre>| num_factors                    | Factor Dimension                                 | 32       |</pre>"
            ],
            "text/plain": [
              "| num_factors                    | Factor Dimension                                 | 32       |"
            ]
          },
          "metadata": {}
        },
        {
          "output_type": "display_data",
          "data": {
            "text/html": [
              "<pre>| regularization                 | L2 Regularization on Factors                     | 1e-09    |</pre>"
            ],
            "text/plain": [
              "| regularization                 | L2 Regularization on Factors                     | 1e-09    |"
            ]
          },
          "metadata": {}
        },
        {
          "output_type": "display_data",
          "data": {
            "text/html": [
              "<pre>| solver                         | Solver used for training                         | sgd      |</pre>"
            ],
            "text/plain": [
              "| solver                         | Solver used for training                         | sgd      |"
            ]
          },
          "metadata": {}
        },
        {
          "output_type": "display_data",
          "data": {
            "text/html": [
              "<pre>| linear_regularization          | L2 Regularization on Linear Coefficients         | 1e-09    |</pre>"
            ],
            "text/plain": [
              "| linear_regularization          | L2 Regularization on Linear Coefficients         | 1e-09    |"
            ]
          },
          "metadata": {}
        },
        {
          "output_type": "display_data",
          "data": {
            "text/html": [
              "<pre>| ranking_regularization         | Rank-based Regularization Weight                 | 0.25     |</pre>"
            ],
            "text/plain": [
              "| ranking_regularization         | Rank-based Regularization Weight                 | 0.25     |"
            ]
          },
          "metadata": {}
        },
        {
          "output_type": "display_data",
          "data": {
            "text/html": [
              "<pre>| max_iterations                 | Maximum Number of Iterations                     | 25       |</pre>"
            ],
            "text/plain": [
              "| max_iterations                 | Maximum Number of Iterations                     | 25       |"
            ]
          },
          "metadata": {}
        },
        {
          "output_type": "display_data",
          "data": {
            "text/html": [
              "<pre>+--------------------------------+--------------------------------------------------+----------+</pre>"
            ],
            "text/plain": [
              "+--------------------------------+--------------------------------------------------+----------+"
            ]
          },
          "metadata": {}
        },
        {
          "output_type": "display_data",
          "data": {
            "text/html": [
              "<pre>  Optimizing model using SGD; tuning step size.</pre>"
            ],
            "text/plain": [
              "  Optimizing model using SGD; tuning step size."
            ]
          },
          "metadata": {}
        },
        {
          "output_type": "display_data",
          "data": {
            "text/html": [
              "<pre>  Using 1273629 / 10189036 points for tuning the step size.</pre>"
            ],
            "text/plain": [
              "  Using 1273629 / 10189036 points for tuning the step size."
            ]
          },
          "metadata": {}
        },
        {
          "output_type": "display_data",
          "data": {
            "text/html": [
              "<pre>+---------+-------------------+------------------------------------------+</pre>"
            ],
            "text/plain": [
              "+---------+-------------------+------------------------------------------+"
            ]
          },
          "metadata": {}
        },
        {
          "output_type": "display_data",
          "data": {
            "text/html": [
              "<pre>| Attempt | Initial Step Size | Estimated Objective Value                |</pre>"
            ],
            "text/plain": [
              "| Attempt | Initial Step Size | Estimated Objective Value                |"
            ]
          },
          "metadata": {}
        },
        {
          "output_type": "display_data",
          "data": {
            "text/html": [
              "<pre>+---------+-------------------+------------------------------------------+</pre>"
            ],
            "text/plain": [
              "+---------+-------------------+------------------------------------------+"
            ]
          },
          "metadata": {}
        },
        {
          "output_type": "display_data",
          "data": {
            "text/html": [
              "<pre>| 0       | 25                | Not Viable                               |</pre>"
            ],
            "text/plain": [
              "| 0       | 25                | Not Viable                               |"
            ]
          },
          "metadata": {}
        },
        {
          "output_type": "display_data",
          "data": {
            "text/html": [
              "<pre>| 1       | 6.25              | Not Viable                               |</pre>"
            ],
            "text/plain": [
              "| 1       | 6.25              | Not Viable                               |"
            ]
          },
          "metadata": {}
        },
        {
          "output_type": "display_data",
          "data": {
            "text/html": [
              "<pre>| 2       | 1.5625            | Not Viable                               |</pre>"
            ],
            "text/plain": [
              "| 2       | 1.5625            | Not Viable                               |"
            ]
          },
          "metadata": {}
        },
        {
          "output_type": "display_data",
          "data": {
            "text/html": [
              "<pre>| 3       | 0.390625          | Not Viable                               |</pre>"
            ],
            "text/plain": [
              "| 3       | 0.390625          | Not Viable                               |"
            ]
          },
          "metadata": {}
        },
        {
          "output_type": "display_data",
          "data": {
            "text/html": [
              "<pre>| 4       | 0.0976562         | Not Viable                               |</pre>"
            ],
            "text/plain": [
              "| 4       | 0.0976562         | Not Viable                               |"
            ]
          },
          "metadata": {}
        },
        {
          "output_type": "display_data",
          "data": {
            "text/html": [
              "<pre>| 5       | 0.0244141         | 3.0756                                   |</pre>"
            ],
            "text/plain": [
              "| 5       | 0.0244141         | 3.0756                                   |"
            ]
          },
          "metadata": {}
        },
        {
          "output_type": "display_data",
          "data": {
            "text/html": [
              "<pre>| 6       | 0.012207          | 3.28304                                  |</pre>"
            ],
            "text/plain": [
              "| 6       | 0.012207          | 3.28304                                  |"
            ]
          },
          "metadata": {}
        },
        {
          "output_type": "display_data",
          "data": {
            "text/html": [
              "<pre>| 7       | 0.00610352        | 3.43214                                  |</pre>"
            ],
            "text/plain": [
              "| 7       | 0.00610352        | 3.43214                                  |"
            ]
          },
          "metadata": {}
        },
        {
          "output_type": "display_data",
          "data": {
            "text/html": [
              "<pre>| 8       | 0.00305176        | 3.69142                                  |</pre>"
            ],
            "text/plain": [
              "| 8       | 0.00305176        | 3.69142                                  |"
            ]
          },
          "metadata": {}
        },
        {
          "output_type": "display_data",
          "data": {
            "text/html": [
              "<pre>+---------+-------------------+------------------------------------------+</pre>"
            ],
            "text/plain": [
              "+---------+-------------------+------------------------------------------+"
            ]
          },
          "metadata": {}
        },
        {
          "output_type": "display_data",
          "data": {
            "text/html": [
              "<pre>| Final   | 0.0244141         | 3.0756                                   |</pre>"
            ],
            "text/plain": [
              "| Final   | 0.0244141         | 3.0756                                   |"
            ]
          },
          "metadata": {}
        },
        {
          "output_type": "display_data",
          "data": {
            "text/html": [
              "<pre>+---------+-------------------+------------------------------------------+</pre>"
            ],
            "text/plain": [
              "+---------+-------------------+------------------------------------------+"
            ]
          },
          "metadata": {}
        },
        {
          "output_type": "display_data",
          "data": {
            "text/html": [
              "<pre>Starting Optimization.</pre>"
            ],
            "text/plain": [
              "Starting Optimization."
            ]
          },
          "metadata": {}
        },
        {
          "output_type": "display_data",
          "data": {
            "text/html": [
              "<pre>+---------+--------------+-------------------+-----------------------+-------------+</pre>"
            ],
            "text/plain": [
              "+---------+--------------+-------------------+-----------------------+-------------+"
            ]
          },
          "metadata": {}
        },
        {
          "output_type": "display_data",
          "data": {
            "text/html": [
              "<pre>| Iter.   | Elapsed Time | Approx. Objective | Approx. Training RMSE | Step Size   |</pre>"
            ],
            "text/plain": [
              "| Iter.   | Elapsed Time | Approx. Objective | Approx. Training RMSE | Step Size   |"
            ]
          },
          "metadata": {}
        },
        {
          "output_type": "display_data",
          "data": {
            "text/html": [
              "<pre>+---------+--------------+-------------------+-----------------------+-------------+</pre>"
            ],
            "text/plain": [
              "+---------+--------------+-------------------+-----------------------+-------------+"
            ]
          },
          "metadata": {}
        },
        {
          "output_type": "display_data",
          "data": {
            "text/html": [
              "<pre>| Initial | 164us        | 5.6039            | 1.69065               |             |</pre>"
            ],
            "text/plain": [
              "| Initial | 164us        | 5.6039            | 1.69065               |             |"
            ]
          },
          "metadata": {}
        },
        {
          "output_type": "display_data",
          "data": {
            "text/html": [
              "<pre>+---------+--------------+-------------------+-----------------------+-------------+</pre>"
            ],
            "text/plain": [
              "+---------+--------------+-------------------+-----------------------+-------------+"
            ]
          },
          "metadata": {}
        },
        {
          "output_type": "display_data",
          "data": {
            "text/html": [
              "<pre>| 1       | 13.20s       | 2.77126           | 1.33915               | 0.0244141   |</pre>"
            ],
            "text/plain": [
              "| 1       | 13.20s       | 2.77126           | 1.33915               | 0.0244141   |"
            ]
          },
          "metadata": {}
        },
        {
          "output_type": "display_data",
          "data": {
            "text/html": [
              "<pre>| 2       | 25.35s       | 2.30316           | 1.25092               | 0.0145167   |</pre>"
            ],
            "text/plain": [
              "| 2       | 25.35s       | 2.30316           | 1.25092               | 0.0145167   |"
            ]
          },
          "metadata": {}
        },
        {
          "output_type": "display_data",
          "data": {
            "text/html": [
              "<pre>| 3       | 36.42s       | 2.11522           | 1.19436               | 0.0107102   |</pre>"
            ],
            "text/plain": [
              "| 3       | 36.42s       | 2.11522           | 1.19436               | 0.0107102   |"
            ]
          },
          "metadata": {}
        },
        {
          "output_type": "display_data",
          "data": {
            "text/html": [
              "<pre>| 4       | 47.80s       | 2.02433           | 1.16747               | 0.00863167  |</pre>"
            ],
            "text/plain": [
              "| 4       | 47.80s       | 2.02433           | 1.16747               | 0.00863167  |"
            ]
          },
          "metadata": {}
        },
        {
          "output_type": "display_data",
          "data": {
            "text/html": [
              "<pre>| 5       | 59.78s       | 1.97024           | 1.15111               | 0.00730151  |</pre>"
            ],
            "text/plain": [
              "| 5       | 59.78s       | 1.97024           | 1.15111               | 0.00730151  |"
            ]
          },
          "metadata": {}
        },
        {
          "output_type": "display_data",
          "data": {
            "text/html": [
              "<pre>| 7       | 1m 21s       | 1.90459           | 1.12987               | 0.00567305  |</pre>"
            ],
            "text/plain": [
              "| 7       | 1m 21s       | 1.90459           | 1.12987               | 0.00567305  |"
            ]
          },
          "metadata": {}
        },
        {
          "output_type": "display_data",
          "data": {
            "text/html": [
              "<pre>| 8       | 1m 33s       | 1.8829            | 1.12314               | 0.00513242  |</pre>"
            ],
            "text/plain": [
              "| 8       | 1m 33s       | 1.8829            | 1.12314               | 0.00513242  |"
            ]
          },
          "metadata": {}
        },
        {
          "output_type": "display_data",
          "data": {
            "text/html": [
              "<pre>| 9       | 1m 44s       | 1.8661            | 1.11765               | 0.00469849  |</pre>"
            ],
            "text/plain": [
              "| 9       | 1m 44s       | 1.8661            | 1.11765               | 0.00469849  |"
            ]
          },
          "metadata": {}
        },
        {
          "output_type": "display_data",
          "data": {
            "text/html": [
              "<pre>| 10      | 1m 56s       | 1.85168           | 1.11281               | 0.0043415   |</pre>"
            ],
            "text/plain": [
              "| 10      | 1m 56s       | 1.85168           | 1.11281               | 0.0043415   |"
            ]
          },
          "metadata": {}
        },
        {
          "output_type": "display_data",
          "data": {
            "text/html": [
              "<pre>| 11      | 2m 7s        | 1.83974           | 1.10891               | 0.00404199  |</pre>"
            ],
            "text/plain": [
              "| 11      | 2m 7s        | 1.83974           | 1.10891               | 0.00404199  |"
            ]
          },
          "metadata": {}
        },
        {
          "output_type": "display_data",
          "data": {
            "text/html": [
              "<pre>| 12      | 2m 19s       | 1.83083           | 1.10577               | 0.00378664  |</pre>"
            ],
            "text/plain": [
              "| 12      | 2m 19s       | 1.83083           | 1.10577               | 0.00378664  |"
            ]
          },
          "metadata": {}
        },
        {
          "output_type": "display_data",
          "data": {
            "text/html": [
              "<pre>| 13      | 2m 30s       | 1.81985           | 1.10215               | 0.00356601  |</pre>"
            ],
            "text/plain": [
              "| 13      | 2m 30s       | 1.81985           | 1.10215               | 0.00356601  |"
            ]
          },
          "metadata": {}
        },
        {
          "output_type": "display_data",
          "data": {
            "text/html": [
              "<pre>| 14      | 2m 41s       | 1.81312           | 1.09994               | 0.00337322  |</pre>"
            ],
            "text/plain": [
              "| 14      | 2m 41s       | 1.81312           | 1.09994               | 0.00337322  |"
            ]
          },
          "metadata": {}
        },
        {
          "output_type": "display_data",
          "data": {
            "text/html": [
              "<pre>| 15      | 2m 52s       | 1.80574           | 1.09747               | 0.00320311  |</pre>"
            ],
            "text/plain": [
              "| 15      | 2m 52s       | 1.80574           | 1.09747               | 0.00320311  |"
            ]
          },
          "metadata": {}
        },
        {
          "output_type": "display_data",
          "data": {
            "text/html": [
              "<pre>| 16      | 3m 3s        | 1.79981           | 1.09551               | 0.00305176  |</pre>"
            ],
            "text/plain": [
              "| 16      | 3m 3s        | 1.79981           | 1.09551               | 0.00305176  |"
            ]
          },
          "metadata": {}
        },
        {
          "output_type": "display_data",
          "data": {
            "text/html": [
              "<pre>| 17      | 3m 14s       | 1.79315           | 1.09312               | 0.00291611  |</pre>"
            ],
            "text/plain": [
              "| 17      | 3m 14s       | 1.79315           | 1.09312               | 0.00291611  |"
            ]
          },
          "metadata": {}
        },
        {
          "output_type": "display_data",
          "data": {
            "text/html": [
              "<pre>| 18      | 3m 25s       | 1.78935           | 1.09183               | 0.00279374  |</pre>"
            ],
            "text/plain": [
              "| 18      | 3m 25s       | 1.78935           | 1.09183               | 0.00279374  |"
            ]
          },
          "metadata": {}
        },
        {
          "output_type": "display_data",
          "data": {
            "text/html": [
              "<pre>| 19      | 3m 36s       | 1.7847            | 1.09013               | 0.00268272  |</pre>"
            ],
            "text/plain": [
              "| 19      | 3m 36s       | 1.7847            | 1.09013               | 0.00268272  |"
            ]
          },
          "metadata": {}
        },
        {
          "output_type": "display_data",
          "data": {
            "text/html": [
              "<pre>| 20      | 3m 48s       | 1.78011           | 1.08864               | 0.00258147  |</pre>"
            ],
            "text/plain": [
              "| 20      | 3m 48s       | 1.78011           | 1.08864               | 0.00258147  |"
            ]
          },
          "metadata": {}
        },
        {
          "output_type": "display_data",
          "data": {
            "text/html": [
              "<pre>| 21      | 3m 59s       | 1.77699           | 1.08755               | 0.00248872  |</pre>"
            ],
            "text/plain": [
              "| 21      | 3m 59s       | 1.77699           | 1.08755               | 0.00248872  |"
            ]
          },
          "metadata": {}
        },
        {
          "output_type": "display_data",
          "data": {
            "text/html": [
              "<pre>| 22      | 4m 10s       | 1.77338           | 1.08623               | 0.00240338  |</pre>"
            ],
            "text/plain": [
              "| 22      | 4m 10s       | 1.77338           | 1.08623               | 0.00240338  |"
            ]
          },
          "metadata": {}
        },
        {
          "output_type": "display_data",
          "data": {
            "text/html": [
              "<pre>| 23      | 4m 21s       | 1.76942           | 1.08511               | 0.00232458  |</pre>"
            ],
            "text/plain": [
              "| 23      | 4m 21s       | 1.76942           | 1.08511               | 0.00232458  |"
            ]
          },
          "metadata": {}
        },
        {
          "output_type": "display_data",
          "data": {
            "text/html": [
              "<pre>| 24      | 4m 32s       | 1.76603           | 1.08389               | 0.00225155  |</pre>"
            ],
            "text/plain": [
              "| 24      | 4m 32s       | 1.76603           | 1.08389               | 0.00225155  |"
            ]
          },
          "metadata": {}
        },
        {
          "output_type": "display_data",
          "data": {
            "text/html": [
              "<pre>| 25      | 4m 43s       | 1.76345           | 1.08303               | 0.00218366  |</pre>"
            ],
            "text/plain": [
              "| 25      | 4m 43s       | 1.76345           | 1.08303               | 0.00218366  |"
            ]
          },
          "metadata": {}
        },
        {
          "output_type": "display_data",
          "data": {
            "text/html": [
              "<pre>+---------+--------------+-------------------+-----------------------+-------------+</pre>"
            ],
            "text/plain": [
              "+---------+--------------+-------------------+-----------------------+-------------+"
            ]
          },
          "metadata": {}
        },
        {
          "output_type": "display_data",
          "data": {
            "text/html": [
              "<pre>Optimization Complete: Maximum number of passes through the data reached.</pre>"
            ],
            "text/plain": [
              "Optimization Complete: Maximum number of passes through the data reached."
            ]
          },
          "metadata": {}
        },
        {
          "output_type": "display_data",
          "data": {
            "text/html": [
              "<pre>Computing final objective value and training RMSE.</pre>"
            ],
            "text/plain": [
              "Computing final objective value and training RMSE."
            ]
          },
          "metadata": {}
        },
        {
          "output_type": "display_data",
          "data": {
            "text/html": [
              "<pre>       Final objective value: 1.73708</pre>"
            ],
            "text/plain": [
              "       Final objective value: 1.73708"
            ]
          },
          "metadata": {}
        },
        {
          "output_type": "display_data",
          "data": {
            "text/html": [
              "<pre>       Final training RMSE: 1.05894</pre>"
            ],
            "text/plain": [
              "       Final training RMSE: 1.05894"
            ]
          },
          "metadata": {}
        },
        {
          "output_type": "execute_result",
          "data": {
            "text/html": [
              "<div style=\"max-height:1000px;max-width:1500px;overflow:auto;\"><table frame=\"box\" rules=\"cols\">\n",
              "    <tr>\n",
              "        <th style=\"padding-left: 1em; padding-right: 1em; text-align: center\">user_id</th>\n",
              "        <th style=\"padding-left: 1em; padding-right: 1em; text-align: center\">anime_id</th>\n",
              "        <th style=\"padding-left: 1em; padding-right: 1em; text-align: center\">score</th>\n",
              "        <th style=\"padding-left: 1em; padding-right: 1em; text-align: center\">rank</th>\n",
              "    </tr>\n",
              "    <tr>\n",
              "        <td style=\"padding-left: 1em; padding-right: 1em; text-align: center; vertical-align: top\">23</td>\n",
              "        <td style=\"padding-left: 1em; padding-right: 1em; text-align: center; vertical-align: top\">モンスター</td>\n",
              "        <td style=\"padding-left: 1em; padding-right: 1em; text-align: center; vertical-align: top\">9.122063511456746</td>\n",
              "        <td style=\"padding-left: 1em; padding-right: 1em; text-align: center; vertical-align: top\">1</td>\n",
              "    </tr>\n",
              "    <tr>\n",
              "        <td style=\"padding-left: 1em; padding-right: 1em; text-align: center; vertical-align: top\">23</td>\n",
              "        <td style=\"padding-left: 1em; padding-right: 1em; text-align: center; vertical-align: top\">デトロイト・メタル・シティ</td>\n",
              "        <td style=\"padding-left: 1em; padding-right: 1em; text-align: center; vertical-align: top\">8.938865059460896</td>\n",
              "        <td style=\"padding-left: 1em; padding-right: 1em; text-align: center; vertical-align: top\">2</td>\n",
              "    </tr>\n",
              "    <tr>\n",
              "        <td style=\"padding-left: 1em; padding-right: 1em; text-align: center; vertical-align: top\">23</td>\n",
              "        <td style=\"padding-left: 1em; padding-right: 1em; text-align: center; vertical-align: top\">グレート・ティーチャー・オニヅカ</td>\n",
              "        <td style=\"padding-left: 1em; padding-right: 1em; text-align: center; vertical-align: top\">8.936559074963826</td>\n",
              "        <td style=\"padding-left: 1em; padding-right: 1em; text-align: center; vertical-align: top\">3</td>\n",
              "    </tr>\n",
              "    <tr>\n",
              "        <td style=\"padding-left: 1em; padding-right: 1em; text-align: center; vertical-align: top\">42</td>\n",
              "        <td style=\"padding-left: 1em; padding-right: 1em; text-align: center; vertical-align: top\">残響のテロル</td>\n",
              "        <td style=\"padding-left: 1em; padding-right: 1em; text-align: center; vertical-align: top\">9.952035003747243</td>\n",
              "        <td style=\"padding-left: 1em; padding-right: 1em; text-align: center; vertical-align: top\">1</td>\n",
              "    </tr>\n",
              "    <tr>\n",
              "        <td style=\"padding-left: 1em; padding-right: 1em; text-align: center; vertical-align: top\">42</td>\n",
              "        <td style=\"padding-left: 1em; padding-right: 1em; text-align: center; vertical-align: top\">四月は君の嘘</td>\n",
              "        <td style=\"padding-left: 1em; padding-right: 1em; text-align: center; vertical-align: top\">9.916189962472219</td>\n",
              "        <td style=\"padding-left: 1em; padding-right: 1em; text-align: center; vertical-align: top\">2</td>\n",
              "    </tr>\n",
              "    <tr>\n",
              "        <td style=\"padding-left: 1em; padding-right: 1em; text-align: center; vertical-align: top\">42</td>\n",
              "        <td style=\"padding-left: 1em; padding-right: 1em; text-align: center; vertical-align: top\">君の名は。</td>\n",
              "        <td style=\"padding-left: 1em; padding-right: 1em; text-align: center; vertical-align: top\">9.483775430764455</td>\n",
              "        <td style=\"padding-left: 1em; padding-right: 1em; text-align: center; vertical-align: top\">3</td>\n",
              "    </tr>\n",
              "    <tr>\n",
              "        <td style=\"padding-left: 1em; padding-right: 1em; text-align: center; vertical-align: top\">61</td>\n",
              "        <td style=\"padding-left: 1em; padding-right: 1em; text-align: center; vertical-align: top\">犬夜叉 鏡の中の夢幻城</td>\n",
              "        <td style=\"padding-left: 1em; padding-right: 1em; text-align: center; vertical-align: top\">11.829193511451978</td>\n",
              "        <td style=\"padding-left: 1em; padding-right: 1em; text-align: center; vertical-align: top\">1</td>\n",
              "    </tr>\n",
              "    <tr>\n",
              "        <td style=\"padding-left: 1em; padding-right: 1em; text-align: center; vertical-align: top\">61</td>\n",
              "        <td style=\"padding-left: 1em; padding-right: 1em; text-align: center; vertical-align: top\">犬夜叉 天下覇道の剣</td>\n",
              "        <td style=\"padding-left: 1em; padding-right: 1em; text-align: center; vertical-align: top\">11.604600348915357</td>\n",
              "        <td style=\"padding-left: 1em; padding-right: 1em; text-align: center; vertical-align: top\">2</td>\n",
              "    </tr>\n",
              "    <tr>\n",
              "        <td style=\"padding-left: 1em; padding-right: 1em; text-align: center; vertical-align: top\">61</td>\n",
              "        <td style=\"padding-left: 1em; padding-right: 1em; text-align: center; vertical-align: top\">犬夜叉 時代を越える想い</td>\n",
              "        <td style=\"padding-left: 1em; padding-right: 1em; text-align: center; vertical-align: top\">11.3810514597552</td>\n",
              "        <td style=\"padding-left: 1em; padding-right: 1em; text-align: center; vertical-align: top\">3</td>\n",
              "    </tr>\n",
              "</table>\n",
              "[9 rows x 4 columns]<br/>\n",
              "</div>"
            ],
            "text/plain": [
              "Columns:\n",
              "\tuser_id\tint\n",
              "\tanime_id\tstr\n",
              "\tscore\tfloat\n",
              "\trank\tint\n",
              "\n",
              "Rows: 9\n",
              "\n",
              "Data:\n",
              "+---------+----------------------------------+--------------------+------+\n",
              "| user_id |             anime_id             |       score        | rank |\n",
              "+---------+----------------------------------+--------------------+------+\n",
              "|    23   |            モンスター            | 9.122063511456746  |  1   |\n",
              "|    23   |    デトロイト・メタル・シティ    | 8.938865059460896  |  2   |\n",
              "|    23   | グレート・ティーチャー・オニヅカ | 8.936559074963826  |  3   |\n",
              "|    42   |           残響のテロル           | 9.952035003747243  |  1   |\n",
              "|    42   |           四月は君の嘘           | 9.916189962472219  |  2   |\n",
              "|    42   |            君の名は。            | 9.483775430764455  |  3   |\n",
              "|    61   |      犬夜叉 鏡の中の夢幻城       | 11.829193511451978 |  1   |\n",
              "|    61   |       犬夜叉 天下覇道の剣        | 11.604600348915357 |  2   |\n",
              "|    61   |     犬夜叉 時代を越える想い      |  11.3810514597552  |  3   |\n",
              "+---------+----------------------------------+--------------------+------+\n",
              "[9 rows x 4 columns]"
            ]
          },
          "metadata": {},
          "execution_count": 4
        }
      ]
    },
    {
      "cell_type": "markdown",
      "metadata": {
        "id": "XzDUpX7T5Izq"
      },
      "source": [
        "## レコメンドモデルの比較"
      ]
    },
    {
      "cell_type": "code",
      "metadata": {
        "id": "YK_aTu825MQy",
        "colab": {
          "base_uri": "https://localhost:8080/",
          "height": 1000
        },
        "outputId": "5839d8d6-038e-4991-e6ec-cbfd550bc707"
      },
      "source": [
        "s_model = tc.recommender.item_similarity_recommender.create(training_data, user_id, item_id, target)\n",
        "f_model = tc.recommender.factorization_recommender.create(training_data, user_id, item_id, target)\n",
        "rf_model = tc.recommender.ranking_factorization_recommender.create(training_data, user_id, item_id, target)\n",
        "\n",
        "models = [s_model, f_model, rf_model]\n",
        "model_names = ['ItemSimilarityRecommender', 'FactorizationRecommender', 'RankingFactorizationRecommender']\n",
        "comparison_results = tc.recommender.util.compare_models(validation_data, models, model_names, metric='rmse', target=target)\n",
        "\n",
        "for i in range(len(comparison_results)):\n",
        "    print(f'Model: {model_names[i]}')\n",
        "    print(f'Overall RMSE: {comparison_results[i][\"rmse_overall\"]}\\n')"
      ],
      "execution_count": 5,
      "outputs": [
        {
          "output_type": "display_data",
          "data": {
            "text/html": [
              "<pre>Preparing data set.</pre>"
            ],
            "text/plain": [
              "Preparing data set."
            ]
          },
          "metadata": {}
        },
        {
          "output_type": "display_data",
          "data": {
            "text/html": [
              "<pre>    Data has 10189036 observations with 54995 users and 15762 items.</pre>"
            ],
            "text/plain": [
              "    Data has 10189036 observations with 54995 users and 15762 items."
            ]
          },
          "metadata": {}
        },
        {
          "output_type": "display_data",
          "data": {
            "text/html": [
              "<pre>    Data prepared in: 10.5672s</pre>"
            ],
            "text/plain": [
              "    Data prepared in: 10.5672s"
            ]
          },
          "metadata": {}
        },
        {
          "output_type": "display_data",
          "data": {
            "text/html": [
              "<pre>Training model from provided data.</pre>"
            ],
            "text/plain": [
              "Training model from provided data."
            ]
          },
          "metadata": {}
        },
        {
          "output_type": "display_data",
          "data": {
            "text/html": [
              "<pre>Gathering per-item and per-user statistics.</pre>"
            ],
            "text/plain": [
              "Gathering per-item and per-user statistics."
            ]
          },
          "metadata": {}
        },
        {
          "output_type": "display_data",
          "data": {
            "text/html": [
              "<pre>+--------------------------------+------------+</pre>"
            ],
            "text/plain": [
              "+--------------------------------+------------+"
            ]
          },
          "metadata": {}
        },
        {
          "output_type": "display_data",
          "data": {
            "text/html": [
              "<pre>| Elapsed Time (Item Statistics) | % Complete |</pre>"
            ],
            "text/plain": [
              "| Elapsed Time (Item Statistics) | % Complete |"
            ]
          },
          "metadata": {}
        },
        {
          "output_type": "display_data",
          "data": {
            "text/html": [
              "<pre>+--------------------------------+------------+</pre>"
            ],
            "text/plain": [
              "+--------------------------------+------------+"
            ]
          },
          "metadata": {}
        },
        {
          "output_type": "display_data",
          "data": {
            "text/html": [
              "<pre>| 24.65ms                        | 1.75       |</pre>"
            ],
            "text/plain": [
              "| 24.65ms                        | 1.75       |"
            ]
          },
          "metadata": {}
        },
        {
          "output_type": "display_data",
          "data": {
            "text/html": [
              "<pre>| 345.788ms                      | 100        |</pre>"
            ],
            "text/plain": [
              "| 345.788ms                      | 100        |"
            ]
          },
          "metadata": {}
        },
        {
          "output_type": "display_data",
          "data": {
            "text/html": [
              "<pre>+--------------------------------+------------+</pre>"
            ],
            "text/plain": [
              "+--------------------------------+------------+"
            ]
          },
          "metadata": {}
        },
        {
          "output_type": "display_data",
          "data": {
            "text/html": [
              "<pre>Setting up lookup tables.</pre>"
            ],
            "text/plain": [
              "Setting up lookup tables."
            ]
          },
          "metadata": {}
        },
        {
          "output_type": "display_data",
          "data": {
            "text/html": [
              "<pre>Processing data in one pass using dense lookup tables.</pre>"
            ],
            "text/plain": [
              "Processing data in one pass using dense lookup tables."
            ]
          },
          "metadata": {}
        },
        {
          "output_type": "display_data",
          "data": {
            "text/html": [
              "<pre>+-------------------------------------+------------------+-----------------+</pre>"
            ],
            "text/plain": [
              "+-------------------------------------+------------------+-----------------+"
            ]
          },
          "metadata": {}
        },
        {
          "output_type": "display_data",
          "data": {
            "text/html": [
              "<pre>| Elapsed Time (Constructing Lookups) | Total % Complete | Items Processed |</pre>"
            ],
            "text/plain": [
              "| Elapsed Time (Constructing Lookups) | Total % Complete | Items Processed |"
            ]
          },
          "metadata": {}
        },
        {
          "output_type": "display_data",
          "data": {
            "text/html": [
              "<pre>+-------------------------------------+------------------+-----------------+</pre>"
            ],
            "text/plain": [
              "+-------------------------------------+------------------+-----------------+"
            ]
          },
          "metadata": {}
        },
        {
          "output_type": "display_data",
          "data": {
            "text/html": [
              "<pre>| 1.08s                               | 0                | 0               |</pre>"
            ],
            "text/plain": [
              "| 1.08s                               | 0                | 0               |"
            ]
          },
          "metadata": {}
        },
        {
          "output_type": "display_data",
          "data": {
            "text/html": [
              "<pre>| 4.09s                               | 3.75             | 604             |</pre>"
            ],
            "text/plain": [
              "| 4.09s                               | 3.75             | 604             |"
            ]
          },
          "metadata": {}
        },
        {
          "output_type": "display_data",
          "data": {
            "text/html": [
              "<pre>| 7.08s                               | 6.75             | 1099            |</pre>"
            ],
            "text/plain": [
              "| 7.08s                               | 6.75             | 1099            |"
            ]
          },
          "metadata": {}
        },
        {
          "output_type": "display_data",
          "data": {
            "text/html": [
              "<pre>| 10.08s                              | 9.75             | 1559            |</pre>"
            ],
            "text/plain": [
              "| 10.08s                              | 9.75             | 1559            |"
            ]
          },
          "metadata": {}
        },
        {
          "output_type": "display_data",
          "data": {
            "text/html": [
              "<pre>| 13.08s                              | 14.25            | 2272            |</pre>"
            ],
            "text/plain": [
              "| 13.08s                              | 14.25            | 2272            |"
            ]
          },
          "metadata": {}
        },
        {
          "output_type": "display_data",
          "data": {
            "text/html": [
              "<pre>| 16.08s                              | 18               | 2847            |</pre>"
            ],
            "text/plain": [
              "| 16.08s                              | 18               | 2847            |"
            ]
          },
          "metadata": {}
        },
        {
          "output_type": "display_data",
          "data": {
            "text/html": [
              "<pre>| 19.08s                              | 22               | 3499            |</pre>"
            ],
            "text/plain": [
              "| 19.08s                              | 22               | 3499            |"
            ]
          },
          "metadata": {}
        },
        {
          "output_type": "display_data",
          "data": {
            "text/html": [
              "<pre>| 22.08s                              | 25.5             | 4021            |</pre>"
            ],
            "text/plain": [
              "| 22.08s                              | 25.5             | 4021            |"
            ]
          },
          "metadata": {}
        },
        {
          "output_type": "display_data",
          "data": {
            "text/html": [
              "<pre>| 25.08s                              | 28.5             | 4514            |</pre>"
            ],
            "text/plain": [
              "| 25.08s                              | 28.5             | 4514            |"
            ]
          },
          "metadata": {}
        },
        {
          "output_type": "display_data",
          "data": {
            "text/html": [
              "<pre>| 28.09s                              | 31.75            | 5016            |</pre>"
            ],
            "text/plain": [
              "| 28.09s                              | 31.75            | 5016            |"
            ]
          },
          "metadata": {}
        },
        {
          "output_type": "display_data",
          "data": {
            "text/html": [
              "<pre>| 31.08s                              | 35.75            | 5655            |</pre>"
            ],
            "text/plain": [
              "| 31.08s                              | 35.75            | 5655            |"
            ]
          },
          "metadata": {}
        },
        {
          "output_type": "display_data",
          "data": {
            "text/html": [
              "<pre>| 34.09s                              | 39.25            | 6194            |</pre>"
            ],
            "text/plain": [
              "| 34.09s                              | 39.25            | 6194            |"
            ]
          },
          "metadata": {}
        },
        {
          "output_type": "display_data",
          "data": {
            "text/html": [
              "<pre>| 37.08s                              | 43.5             | 6883            |</pre>"
            ],
            "text/plain": [
              "| 37.08s                              | 43.5             | 6883            |"
            ]
          },
          "metadata": {}
        },
        {
          "output_type": "display_data",
          "data": {
            "text/html": [
              "<pre>| 40.09s                              | 47.5             | 7489            |</pre>"
            ],
            "text/plain": [
              "| 40.09s                              | 47.5             | 7489            |"
            ]
          },
          "metadata": {}
        },
        {
          "output_type": "display_data",
          "data": {
            "text/html": [
              "<pre>| 43.08s                              | 51               | 8064            |</pre>"
            ],
            "text/plain": [
              "| 43.08s                              | 51               | 8064            |"
            ]
          },
          "metadata": {}
        },
        {
          "output_type": "display_data",
          "data": {
            "text/html": [
              "<pre>| 46.08s                              | 54.75            | 8668            |</pre>"
            ],
            "text/plain": [
              "| 46.08s                              | 54.75            | 8668            |"
            ]
          },
          "metadata": {}
        },
        {
          "output_type": "display_data",
          "data": {
            "text/html": [
              "<pre>| 49.09s                              | 58.75            | 9282            |</pre>"
            ],
            "text/plain": [
              "| 49.09s                              | 58.75            | 9282            |"
            ]
          },
          "metadata": {}
        },
        {
          "output_type": "display_data",
          "data": {
            "text/html": [
              "<pre>| 52.08s                              | 63               | 9954            |</pre>"
            ],
            "text/plain": [
              "| 52.08s                              | 63               | 9954            |"
            ]
          },
          "metadata": {}
        },
        {
          "output_type": "display_data",
          "data": {
            "text/html": [
              "<pre>| 55.08s                              | 66.75            | 10537           |</pre>"
            ],
            "text/plain": [
              "| 55.08s                              | 66.75            | 10537           |"
            ]
          },
          "metadata": {}
        },
        {
          "output_type": "display_data",
          "data": {
            "text/html": [
              "<pre>| 58.09s                              | 70.75            | 11168           |</pre>"
            ],
            "text/plain": [
              "| 58.09s                              | 70.75            | 11168           |"
            ]
          },
          "metadata": {}
        },
        {
          "output_type": "display_data",
          "data": {
            "text/html": [
              "<pre>| 1m 1s                               | 74.5             | 11757           |</pre>"
            ],
            "text/plain": [
              "| 1m 1s                               | 74.5             | 11757           |"
            ]
          },
          "metadata": {}
        },
        {
          "output_type": "display_data",
          "data": {
            "text/html": [
              "<pre>| 1m 4s                               | 78.5             | 12377           |</pre>"
            ],
            "text/plain": [
              "| 1m 4s                               | 78.5             | 12377           |"
            ]
          },
          "metadata": {}
        },
        {
          "output_type": "display_data",
          "data": {
            "text/html": [
              "<pre>| 1m 7s                               | 82               | 12931           |</pre>"
            ],
            "text/plain": [
              "| 1m 7s                               | 82               | 12931           |"
            ]
          },
          "metadata": {}
        },
        {
          "output_type": "display_data",
          "data": {
            "text/html": [
              "<pre>| 1m 10s                              | 84.75            | 13397           |</pre>"
            ],
            "text/plain": [
              "| 1m 10s                              | 84.75            | 13397           |"
            ]
          },
          "metadata": {}
        },
        {
          "output_type": "display_data",
          "data": {
            "text/html": [
              "<pre>| 1m 13s                              | 88.5             | 13974           |</pre>"
            ],
            "text/plain": [
              "| 1m 13s                              | 88.5             | 13974           |"
            ]
          },
          "metadata": {}
        },
        {
          "output_type": "display_data",
          "data": {
            "text/html": [
              "<pre>| 1m 16s                              | 91.75            | 14494           |</pre>"
            ],
            "text/plain": [
              "| 1m 16s                              | 91.75            | 14494           |"
            ]
          },
          "metadata": {}
        },
        {
          "output_type": "display_data",
          "data": {
            "text/html": [
              "<pre>| 1m 19s                              | 95.75            | 15103           |</pre>"
            ],
            "text/plain": [
              "| 1m 19s                              | 95.75            | 15103           |"
            ]
          },
          "metadata": {}
        },
        {
          "output_type": "display_data",
          "data": {
            "text/html": [
              "<pre>| 1m 22s                              | 99               | 15641           |</pre>"
            ],
            "text/plain": [
              "| 1m 22s                              | 99               | 15641           |"
            ]
          },
          "metadata": {}
        },
        {
          "output_type": "display_data",
          "data": {
            "text/html": [
              "<pre>| 1m 26s                              | 100              | 15762           |</pre>"
            ],
            "text/plain": [
              "| 1m 26s                              | 100              | 15762           |"
            ]
          },
          "metadata": {}
        },
        {
          "output_type": "display_data",
          "data": {
            "text/html": [
              "<pre>+-------------------------------------+------------------+-----------------+</pre>"
            ],
            "text/plain": [
              "+-------------------------------------+------------------+-----------------+"
            ]
          },
          "metadata": {}
        },
        {
          "output_type": "display_data",
          "data": {
            "text/html": [
              "<pre>Finalizing lookup tables.</pre>"
            ],
            "text/plain": [
              "Finalizing lookup tables."
            ]
          },
          "metadata": {}
        },
        {
          "output_type": "display_data",
          "data": {
            "text/html": [
              "<pre>Generating candidate set for working with new users.</pre>"
            ],
            "text/plain": [
              "Generating candidate set for working with new users."
            ]
          },
          "metadata": {}
        },
        {
          "output_type": "display_data",
          "data": {
            "text/html": [
              "<pre>Finished training in 87.7048s</pre>"
            ],
            "text/plain": [
              "Finished training in 87.7048s"
            ]
          },
          "metadata": {}
        },
        {
          "output_type": "display_data",
          "data": {
            "text/html": [
              "<pre>Preparing data set.</pre>"
            ],
            "text/plain": [
              "Preparing data set."
            ]
          },
          "metadata": {}
        },
        {
          "output_type": "display_data",
          "data": {
            "text/html": [
              "<pre>    Data has 10189036 observations with 54995 users and 15762 items.</pre>"
            ],
            "text/plain": [
              "    Data has 10189036 observations with 54995 users and 15762 items."
            ]
          },
          "metadata": {}
        },
        {
          "output_type": "display_data",
          "data": {
            "text/html": [
              "<pre>    Data prepared in: 11.0773s</pre>"
            ],
            "text/plain": [
              "    Data prepared in: 11.0773s"
            ]
          },
          "metadata": {}
        },
        {
          "output_type": "display_data",
          "data": {
            "text/html": [
              "<pre>Training factorization_recommender for recommendations.</pre>"
            ],
            "text/plain": [
              "Training factorization_recommender for recommendations."
            ]
          },
          "metadata": {}
        },
        {
          "output_type": "display_data",
          "data": {
            "text/html": [
              "<pre>+--------------------------------+--------------------------------------------------+----------+</pre>"
            ],
            "text/plain": [
              "+--------------------------------+--------------------------------------------------+----------+"
            ]
          },
          "metadata": {}
        },
        {
          "output_type": "display_data",
          "data": {
            "text/html": [
              "<pre>| Parameter                      | Description                                      | Value    |</pre>"
            ],
            "text/plain": [
              "| Parameter                      | Description                                      | Value    |"
            ]
          },
          "metadata": {}
        },
        {
          "output_type": "display_data",
          "data": {
            "text/html": [
              "<pre>+--------------------------------+--------------------------------------------------+----------+</pre>"
            ],
            "text/plain": [
              "+--------------------------------+--------------------------------------------------+----------+"
            ]
          },
          "metadata": {}
        },
        {
          "output_type": "display_data",
          "data": {
            "text/html": [
              "<pre>| num_factors                    | Factor Dimension                                 | 8        |</pre>"
            ],
            "text/plain": [
              "| num_factors                    | Factor Dimension                                 | 8        |"
            ]
          },
          "metadata": {}
        },
        {
          "output_type": "display_data",
          "data": {
            "text/html": [
              "<pre>| regularization                 | L2 Regularization on Factors                     | 1e-08    |</pre>"
            ],
            "text/plain": [
              "| regularization                 | L2 Regularization on Factors                     | 1e-08    |"
            ]
          },
          "metadata": {}
        },
        {
          "output_type": "display_data",
          "data": {
            "text/html": [
              "<pre>| solver                         | Solver used for training                         | sgd      |</pre>"
            ],
            "text/plain": [
              "| solver                         | Solver used for training                         | sgd      |"
            ]
          },
          "metadata": {}
        },
        {
          "output_type": "display_data",
          "data": {
            "text/html": [
              "<pre>| linear_regularization          | L2 Regularization on Linear Coefficients         | 1e-10    |</pre>"
            ],
            "text/plain": [
              "| linear_regularization          | L2 Regularization on Linear Coefficients         | 1e-10    |"
            ]
          },
          "metadata": {}
        },
        {
          "output_type": "display_data",
          "data": {
            "text/html": [
              "<pre>| max_iterations                 | Maximum Number of Iterations                     | 50       |</pre>"
            ],
            "text/plain": [
              "| max_iterations                 | Maximum Number of Iterations                     | 50       |"
            ]
          },
          "metadata": {}
        },
        {
          "output_type": "display_data",
          "data": {
            "text/html": [
              "<pre>+--------------------------------+--------------------------------------------------+----------+</pre>"
            ],
            "text/plain": [
              "+--------------------------------+--------------------------------------------------+----------+"
            ]
          },
          "metadata": {}
        },
        {
          "output_type": "display_data",
          "data": {
            "text/html": [
              "<pre>  Optimizing model using SGD; tuning step size.</pre>"
            ],
            "text/plain": [
              "  Optimizing model using SGD; tuning step size."
            ]
          },
          "metadata": {}
        },
        {
          "output_type": "display_data",
          "data": {
            "text/html": [
              "<pre>  Using 1273629 / 10189036 points for tuning the step size.</pre>"
            ],
            "text/plain": [
              "  Using 1273629 / 10189036 points for tuning the step size."
            ]
          },
          "metadata": {}
        },
        {
          "output_type": "display_data",
          "data": {
            "text/html": [
              "<pre>+---------+-------------------+------------------------------------------+</pre>"
            ],
            "text/plain": [
              "+---------+-------------------+------------------------------------------+"
            ]
          },
          "metadata": {}
        },
        {
          "output_type": "display_data",
          "data": {
            "text/html": [
              "<pre>| Attempt | Initial Step Size | Estimated Objective Value                |</pre>"
            ],
            "text/plain": [
              "| Attempt | Initial Step Size | Estimated Objective Value                |"
            ]
          },
          "metadata": {}
        },
        {
          "output_type": "display_data",
          "data": {
            "text/html": [
              "<pre>+---------+-------------------+------------------------------------------+</pre>"
            ],
            "text/plain": [
              "+---------+-------------------+------------------------------------------+"
            ]
          },
          "metadata": {}
        },
        {
          "output_type": "display_data",
          "data": {
            "text/html": [
              "<pre>| 0       | 25                | Not Viable                               |</pre>"
            ],
            "text/plain": [
              "| 0       | 25                | Not Viable                               |"
            ]
          },
          "metadata": {}
        },
        {
          "output_type": "display_data",
          "data": {
            "text/html": [
              "<pre>| 1       | 6.25              | Not Viable                               |</pre>"
            ],
            "text/plain": [
              "| 1       | 6.25              | Not Viable                               |"
            ]
          },
          "metadata": {}
        },
        {
          "output_type": "display_data",
          "data": {
            "text/html": [
              "<pre>| 2       | 1.5625            | Not Viable                               |</pre>"
            ],
            "text/plain": [
              "| 2       | 1.5625            | Not Viable                               |"
            ]
          },
          "metadata": {}
        },
        {
          "output_type": "display_data",
          "data": {
            "text/html": [
              "<pre>| 3       | 0.390625          | Not Viable                               |</pre>"
            ],
            "text/plain": [
              "| 3       | 0.390625          | Not Viable                               |"
            ]
          },
          "metadata": {}
        },
        {
          "output_type": "display_data",
          "data": {
            "text/html": [
              "<pre>| 4       | 0.0976562         | 1.06067                                  |</pre>"
            ],
            "text/plain": [
              "| 4       | 0.0976562         | 1.06067                                  |"
            ]
          },
          "metadata": {}
        },
        {
          "output_type": "display_data",
          "data": {
            "text/html": [
              "<pre>| 5       | 0.0488281         | 1.07918                                  |</pre>"
            ],
            "text/plain": [
              "| 5       | 0.0488281         | 1.07918                                  |"
            ]
          },
          "metadata": {}
        },
        {
          "output_type": "display_data",
          "data": {
            "text/html": [
              "<pre>| 6       | 0.0244141         | 1.3934                                   |</pre>"
            ],
            "text/plain": [
              "| 6       | 0.0244141         | 1.3934                                   |"
            ]
          },
          "metadata": {}
        },
        {
          "output_type": "display_data",
          "data": {
            "text/html": [
              "<pre>| 7       | 0.012207          | 1.50019                                  |</pre>"
            ],
            "text/plain": [
              "| 7       | 0.012207          | 1.50019                                  |"
            ]
          },
          "metadata": {}
        },
        {
          "output_type": "display_data",
          "data": {
            "text/html": [
              "<pre>+---------+-------------------+------------------------------------------+</pre>"
            ],
            "text/plain": [
              "+---------+-------------------+------------------------------------------+"
            ]
          },
          "metadata": {}
        },
        {
          "output_type": "display_data",
          "data": {
            "text/html": [
              "<pre>| Final   | 0.0976562         | 1.06067                                  |</pre>"
            ],
            "text/plain": [
              "| Final   | 0.0976562         | 1.06067                                  |"
            ]
          },
          "metadata": {}
        },
        {
          "output_type": "display_data",
          "data": {
            "text/html": [
              "<pre>+---------+-------------------+------------------------------------------+</pre>"
            ],
            "text/plain": [
              "+---------+-------------------+------------------------------------------+"
            ]
          },
          "metadata": {}
        },
        {
          "output_type": "display_data",
          "data": {
            "text/html": [
              "<pre>Starting Optimization.</pre>"
            ],
            "text/plain": [
              "Starting Optimization."
            ]
          },
          "metadata": {}
        },
        {
          "output_type": "display_data",
          "data": {
            "text/html": [
              "<pre>+---------+--------------+-------------------+-----------------------+-------------+</pre>"
            ],
            "text/plain": [
              "+---------+--------------+-------------------+-----------------------+-------------+"
            ]
          },
          "metadata": {}
        },
        {
          "output_type": "display_data",
          "data": {
            "text/html": [
              "<pre>| Iter.   | Elapsed Time | Approx. Objective | Approx. Training RMSE | Step Size   |</pre>"
            ],
            "text/plain": [
              "| Iter.   | Elapsed Time | Approx. Objective | Approx. Training RMSE | Step Size   |"
            ]
          },
          "metadata": {}
        },
        {
          "output_type": "display_data",
          "data": {
            "text/html": [
              "<pre>+---------+--------------+-------------------+-----------------------+-------------+</pre>"
            ],
            "text/plain": [
              "+---------+--------------+-------------------+-----------------------+-------------+"
            ]
          },
          "metadata": {}
        },
        {
          "output_type": "display_data",
          "data": {
            "text/html": [
              "<pre>| Initial | 123us        | 2.85829           | 1.69065               |             |</pre>"
            ],
            "text/plain": [
              "| Initial | 123us        | 2.85829           | 1.69065               |             |"
            ]
          },
          "metadata": {}
        },
        {
          "output_type": "display_data",
          "data": {
            "text/html": [
              "<pre>+---------+--------------+-------------------+-----------------------+-------------+</pre>"
            ],
            "text/plain": [
              "+---------+--------------+-------------------+-----------------------+-------------+"
            ]
          },
          "metadata": {}
        },
        {
          "output_type": "display_data",
          "data": {
            "text/html": [
              "<pre>| 1       | 2.27s        | 2.74398           | 1.65577               | 0.0976562   |</pre>"
            ],
            "text/plain": [
              "| 1       | 2.27s        | 2.74398           | 1.65577               | 0.0976562   |"
            ]
          },
          "metadata": {}
        },
        {
          "output_type": "display_data",
          "data": {
            "text/html": [
              "<pre>| 2       | 4.95s        | 1.83033           | 1.35245               | 0.0580668   |</pre>"
            ],
            "text/plain": [
              "| 2       | 4.95s        | 1.83033           | 1.35245               | 0.0580668   |"
            ]
          },
          "metadata": {}
        },
        {
          "output_type": "display_data",
          "data": {
            "text/html": [
              "<pre>| 3       | 7.64s        | 1.58917           | 1.26022               | 0.042841    |</pre>"
            ],
            "text/plain": [
              "| 3       | 7.64s        | 1.58917           | 1.26022               | 0.042841    |"
            ]
          },
          "metadata": {}
        },
        {
          "output_type": "display_data",
          "data": {
            "text/html": [
              "<pre>| 4       | 9.96s        | 1.47609           | 1.21453               | 0.0345267   |</pre>"
            ],
            "text/plain": [
              "| 4       | 9.96s        | 1.47609           | 1.21453               | 0.0345267   |"
            ]
          },
          "metadata": {}
        },
        {
          "output_type": "display_data",
          "data": {
            "text/html": [
              "<pre>| 5       | 12.61s       | 1.40722           | 1.18581               | 0.029206    |</pre>"
            ],
            "text/plain": [
              "| 5       | 12.61s       | 1.40722           | 1.18581               | 0.029206    |"
            ]
          },
          "metadata": {}
        },
        {
          "output_type": "display_data",
          "data": {
            "text/html": [
              "<pre>| 10      | 25.89s       | 1.27179           | 1.12717               | 0.017366    |</pre>"
            ],
            "text/plain": [
              "| 10      | 25.89s       | 1.27179           | 1.12717               | 0.017366    |"
            ]
          },
          "metadata": {}
        },
        {
          "output_type": "display_data",
          "data": {
            "text/html": [
              "<pre>| 15      | 37.93s       | 1.22601           | 1.10661               | 0.0128124   |</pre>"
            ],
            "text/plain": [
              "| 15      | 37.93s       | 1.22601           | 1.10661               | 0.0128124   |"
            ]
          },
          "metadata": {}
        },
        {
          "output_type": "display_data",
          "data": {
            "text/html": [
              "<pre>| 20      | 51.06s       | 1.20101           | 1.09522               | 0.0103259   |</pre>"
            ],
            "text/plain": [
              "| 20      | 51.06s       | 1.20101           | 1.09522               | 0.0103259   |"
            ]
          },
          "metadata": {}
        },
        {
          "output_type": "display_data",
          "data": {
            "text/html": [
              "<pre>| 25      | 1m 4s        | 1.18594           | 1.08828               | 0.00873464  |</pre>"
            ],
            "text/plain": [
              "| 25      | 1m 4s        | 1.18594           | 1.08828               | 0.00873464  |"
            ]
          },
          "metadata": {}
        },
        {
          "output_type": "display_data",
          "data": {
            "text/html": [
              "<pre>| 30      | 1m 17s       | 1.17529           | 1.08335               | 0.00761832  |</pre>"
            ],
            "text/plain": [
              "| 30      | 1m 17s       | 1.17529           | 1.08335               | 0.00761832  |"
            ]
          },
          "metadata": {}
        },
        {
          "output_type": "display_data",
          "data": {
            "text/html": [
              "<pre>| 35      | 1m 29s       | 1.16686           | 1.07943               | 0.00678655  |</pre>"
            ],
            "text/plain": [
              "| 35      | 1m 29s       | 1.16686           | 1.07943               | 0.00678655  |"
            ]
          },
          "metadata": {}
        },
        {
          "output_type": "display_data",
          "data": {
            "text/html": [
              "<pre>| 40      | 1m 41s       | 1.16065           | 1.07653               | 0.00613981  |</pre>"
            ],
            "text/plain": [
              "| 40      | 1m 41s       | 1.16065           | 1.07653               | 0.00613981  |"
            ]
          },
          "metadata": {}
        },
        {
          "output_type": "display_data",
          "data": {
            "text/html": [
              "<pre>| 45      | 1m 53s       | 1.15596           | 1.07434               | 0.0056207   |</pre>"
            ],
            "text/plain": [
              "| 45      | 1m 53s       | 1.15596           | 1.07434               | 0.0056207   |"
            ]
          },
          "metadata": {}
        },
        {
          "output_type": "display_data",
          "data": {
            "text/html": [
              "<pre>| 50      | 2m 7s        | 1.15158           | 1.07228               | 0.00519365  |</pre>"
            ],
            "text/plain": [
              "| 50      | 2m 7s        | 1.15158           | 1.07228               | 0.00519365  |"
            ]
          },
          "metadata": {}
        },
        {
          "output_type": "display_data",
          "data": {
            "text/html": [
              "<pre>+---------+--------------+-------------------+-----------------------+-------------+</pre>"
            ],
            "text/plain": [
              "+---------+--------------+-------------------+-----------------------+-------------+"
            ]
          },
          "metadata": {}
        },
        {
          "output_type": "display_data",
          "data": {
            "text/html": [
              "<pre>Optimization Complete: Maximum number of passes through the data reached.</pre>"
            ],
            "text/plain": [
              "Optimization Complete: Maximum number of passes through the data reached."
            ]
          },
          "metadata": {}
        },
        {
          "output_type": "display_data",
          "data": {
            "text/html": [
              "<pre>Computing final objective value and training RMSE.</pre>"
            ],
            "text/plain": [
              "Computing final objective value and training RMSE."
            ]
          },
          "metadata": {}
        },
        {
          "output_type": "display_data",
          "data": {
            "text/html": [
              "<pre>       Final objective value: 1.12137</pre>"
            ],
            "text/plain": [
              "       Final objective value: 1.12137"
            ]
          },
          "metadata": {}
        },
        {
          "output_type": "display_data",
          "data": {
            "text/html": [
              "<pre>       Final training RMSE: 1.0581</pre>"
            ],
            "text/plain": [
              "       Final training RMSE: 1.0581"
            ]
          },
          "metadata": {}
        },
        {
          "output_type": "display_data",
          "data": {
            "text/html": [
              "<pre>Preparing data set.</pre>"
            ],
            "text/plain": [
              "Preparing data set."
            ]
          },
          "metadata": {}
        },
        {
          "output_type": "display_data",
          "data": {
            "text/html": [
              "<pre>    Data has 10189036 observations with 54995 users and 15762 items.</pre>"
            ],
            "text/plain": [
              "    Data has 10189036 observations with 54995 users and 15762 items."
            ]
          },
          "metadata": {}
        },
        {
          "output_type": "display_data",
          "data": {
            "text/html": [
              "<pre>    Data prepared in: 10.1477s</pre>"
            ],
            "text/plain": [
              "    Data prepared in: 10.1477s"
            ]
          },
          "metadata": {}
        },
        {
          "output_type": "display_data",
          "data": {
            "text/html": [
              "<pre>Training ranking_factorization_recommender for recommendations.</pre>"
            ],
            "text/plain": [
              "Training ranking_factorization_recommender for recommendations."
            ]
          },
          "metadata": {}
        },
        {
          "output_type": "display_data",
          "data": {
            "text/html": [
              "<pre>+--------------------------------+--------------------------------------------------+----------+</pre>"
            ],
            "text/plain": [
              "+--------------------------------+--------------------------------------------------+----------+"
            ]
          },
          "metadata": {}
        },
        {
          "output_type": "display_data",
          "data": {
            "text/html": [
              "<pre>| Parameter                      | Description                                      | Value    |</pre>"
            ],
            "text/plain": [
              "| Parameter                      | Description                                      | Value    |"
            ]
          },
          "metadata": {}
        },
        {
          "output_type": "display_data",
          "data": {
            "text/html": [
              "<pre>+--------------------------------+--------------------------------------------------+----------+</pre>"
            ],
            "text/plain": [
              "+--------------------------------+--------------------------------------------------+----------+"
            ]
          },
          "metadata": {}
        },
        {
          "output_type": "display_data",
          "data": {
            "text/html": [
              "<pre>| num_factors                    | Factor Dimension                                 | 32       |</pre>"
            ],
            "text/plain": [
              "| num_factors                    | Factor Dimension                                 | 32       |"
            ]
          },
          "metadata": {}
        },
        {
          "output_type": "display_data",
          "data": {
            "text/html": [
              "<pre>| regularization                 | L2 Regularization on Factors                     | 1e-09    |</pre>"
            ],
            "text/plain": [
              "| regularization                 | L2 Regularization on Factors                     | 1e-09    |"
            ]
          },
          "metadata": {}
        },
        {
          "output_type": "display_data",
          "data": {
            "text/html": [
              "<pre>| solver                         | Solver used for training                         | sgd      |</pre>"
            ],
            "text/plain": [
              "| solver                         | Solver used for training                         | sgd      |"
            ]
          },
          "metadata": {}
        },
        {
          "output_type": "display_data",
          "data": {
            "text/html": [
              "<pre>| linear_regularization          | L2 Regularization on Linear Coefficients         | 1e-09    |</pre>"
            ],
            "text/plain": [
              "| linear_regularization          | L2 Regularization on Linear Coefficients         | 1e-09    |"
            ]
          },
          "metadata": {}
        },
        {
          "output_type": "display_data",
          "data": {
            "text/html": [
              "<pre>| ranking_regularization         | Rank-based Regularization Weight                 | 0.25     |</pre>"
            ],
            "text/plain": [
              "| ranking_regularization         | Rank-based Regularization Weight                 | 0.25     |"
            ]
          },
          "metadata": {}
        },
        {
          "output_type": "display_data",
          "data": {
            "text/html": [
              "<pre>| max_iterations                 | Maximum Number of Iterations                     | 25       |</pre>"
            ],
            "text/plain": [
              "| max_iterations                 | Maximum Number of Iterations                     | 25       |"
            ]
          },
          "metadata": {}
        },
        {
          "output_type": "display_data",
          "data": {
            "text/html": [
              "<pre>+--------------------------------+--------------------------------------------------+----------+</pre>"
            ],
            "text/plain": [
              "+--------------------------------+--------------------------------------------------+----------+"
            ]
          },
          "metadata": {}
        },
        {
          "output_type": "display_data",
          "data": {
            "text/html": [
              "<pre>  Optimizing model using SGD; tuning step size.</pre>"
            ],
            "text/plain": [
              "  Optimizing model using SGD; tuning step size."
            ]
          },
          "metadata": {}
        },
        {
          "output_type": "display_data",
          "data": {
            "text/html": [
              "<pre>  Using 1273629 / 10189036 points for tuning the step size.</pre>"
            ],
            "text/plain": [
              "  Using 1273629 / 10189036 points for tuning the step size."
            ]
          },
          "metadata": {}
        },
        {
          "output_type": "display_data",
          "data": {
            "text/html": [
              "<pre>+---------+-------------------+------------------------------------------+</pre>"
            ],
            "text/plain": [
              "+---------+-------------------+------------------------------------------+"
            ]
          },
          "metadata": {}
        },
        {
          "output_type": "display_data",
          "data": {
            "text/html": [
              "<pre>| Attempt | Initial Step Size | Estimated Objective Value                |</pre>"
            ],
            "text/plain": [
              "| Attempt | Initial Step Size | Estimated Objective Value                |"
            ]
          },
          "metadata": {}
        },
        {
          "output_type": "display_data",
          "data": {
            "text/html": [
              "<pre>+---------+-------------------+------------------------------------------+</pre>"
            ],
            "text/plain": [
              "+---------+-------------------+------------------------------------------+"
            ]
          },
          "metadata": {}
        },
        {
          "output_type": "display_data",
          "data": {
            "text/html": [
              "<pre>| 0       | 25                | Not Viable                               |</pre>"
            ],
            "text/plain": [
              "| 0       | 25                | Not Viable                               |"
            ]
          },
          "metadata": {}
        },
        {
          "output_type": "display_data",
          "data": {
            "text/html": [
              "<pre>| 1       | 6.25              | Not Viable                               |</pre>"
            ],
            "text/plain": [
              "| 1       | 6.25              | Not Viable                               |"
            ]
          },
          "metadata": {}
        },
        {
          "output_type": "display_data",
          "data": {
            "text/html": [
              "<pre>| 2       | 1.5625            | Not Viable                               |</pre>"
            ],
            "text/plain": [
              "| 2       | 1.5625            | Not Viable                               |"
            ]
          },
          "metadata": {}
        },
        {
          "output_type": "display_data",
          "data": {
            "text/html": [
              "<pre>| 3       | 0.390625          | Not Viable                               |</pre>"
            ],
            "text/plain": [
              "| 3       | 0.390625          | Not Viable                               |"
            ]
          },
          "metadata": {}
        },
        {
          "output_type": "display_data",
          "data": {
            "text/html": [
              "<pre>| 4       | 0.0976562         | Not Viable                               |</pre>"
            ],
            "text/plain": [
              "| 4       | 0.0976562         | Not Viable                               |"
            ]
          },
          "metadata": {}
        },
        {
          "output_type": "display_data",
          "data": {
            "text/html": [
              "<pre>| 5       | 0.0244141         | 3.07885                                  |</pre>"
            ],
            "text/plain": [
              "| 5       | 0.0244141         | 3.07885                                  |"
            ]
          },
          "metadata": {}
        },
        {
          "output_type": "display_data",
          "data": {
            "text/html": [
              "<pre>| 6       | 0.012207          | 3.28084                                  |</pre>"
            ],
            "text/plain": [
              "| 6       | 0.012207          | 3.28084                                  |"
            ]
          },
          "metadata": {}
        },
        {
          "output_type": "display_data",
          "data": {
            "text/html": [
              "<pre>| 7       | 0.00610352        | 3.42959                                  |</pre>"
            ],
            "text/plain": [
              "| 7       | 0.00610352        | 3.42959                                  |"
            ]
          },
          "metadata": {}
        },
        {
          "output_type": "display_data",
          "data": {
            "text/html": [
              "<pre>| 8       | 0.00305176        | 3.68832                                  |</pre>"
            ],
            "text/plain": [
              "| 8       | 0.00305176        | 3.68832                                  |"
            ]
          },
          "metadata": {}
        },
        {
          "output_type": "display_data",
          "data": {
            "text/html": [
              "<pre>+---------+-------------------+------------------------------------------+</pre>"
            ],
            "text/plain": [
              "+---------+-------------------+------------------------------------------+"
            ]
          },
          "metadata": {}
        },
        {
          "output_type": "display_data",
          "data": {
            "text/html": [
              "<pre>| Final   | 0.0244141         | 3.07885                                  |</pre>"
            ],
            "text/plain": [
              "| Final   | 0.0244141         | 3.07885                                  |"
            ]
          },
          "metadata": {}
        },
        {
          "output_type": "display_data",
          "data": {
            "text/html": [
              "<pre>+---------+-------------------+------------------------------------------+</pre>"
            ],
            "text/plain": [
              "+---------+-------------------+------------------------------------------+"
            ]
          },
          "metadata": {}
        },
        {
          "output_type": "display_data",
          "data": {
            "text/html": [
              "<pre>Starting Optimization.</pre>"
            ],
            "text/plain": [
              "Starting Optimization."
            ]
          },
          "metadata": {}
        },
        {
          "output_type": "display_data",
          "data": {
            "text/html": [
              "<pre>+---------+--------------+-------------------+-----------------------+-------------+</pre>"
            ],
            "text/plain": [
              "+---------+--------------+-------------------+-----------------------+-------------+"
            ]
          },
          "metadata": {}
        },
        {
          "output_type": "display_data",
          "data": {
            "text/html": [
              "<pre>| Iter.   | Elapsed Time | Approx. Objective | Approx. Training RMSE | Step Size   |</pre>"
            ],
            "text/plain": [
              "| Iter.   | Elapsed Time | Approx. Objective | Approx. Training RMSE | Step Size   |"
            ]
          },
          "metadata": {}
        },
        {
          "output_type": "display_data",
          "data": {
            "text/html": [
              "<pre>+---------+--------------+-------------------+-----------------------+-------------+</pre>"
            ],
            "text/plain": [
              "+---------+--------------+-------------------+-----------------------+-------------+"
            ]
          },
          "metadata": {}
        },
        {
          "output_type": "display_data",
          "data": {
            "text/html": [
              "<pre>| Initial | 359us        | 5.60388           | 1.69064               |             |</pre>"
            ],
            "text/plain": [
              "| Initial | 359us        | 5.60388           | 1.69064               |             |"
            ]
          },
          "metadata": {}
        },
        {
          "output_type": "display_data",
          "data": {
            "text/html": [
              "<pre>+---------+--------------+-------------------+-----------------------+-------------+</pre>"
            ],
            "text/plain": [
              "+---------+--------------+-------------------+-----------------------+-------------+"
            ]
          },
          "metadata": {}
        },
        {
          "output_type": "display_data",
          "data": {
            "text/html": [
              "<pre>| 1       | 14.09s       | 2.77098           | 1.33899               | 0.0244141   |</pre>"
            ],
            "text/plain": [
              "| 1       | 14.09s       | 2.77098           | 1.33899               | 0.0244141   |"
            ]
          },
          "metadata": {}
        },
        {
          "output_type": "display_data",
          "data": {
            "text/html": [
              "<pre>| 2       | 26.38s       | 2.30455           | 1.25114               | 0.0145167   |</pre>"
            ],
            "text/plain": [
              "| 2       | 26.38s       | 2.30455           | 1.25114               | 0.0145167   |"
            ]
          },
          "metadata": {}
        },
        {
          "output_type": "display_data",
          "data": {
            "text/html": [
              "<pre>| 3       | 38.10s       | 2.1161            | 1.19435               | 0.0107102   |</pre>"
            ],
            "text/plain": [
              "| 3       | 38.10s       | 2.1161            | 1.19435               | 0.0107102   |"
            ]
          },
          "metadata": {}
        },
        {
          "output_type": "display_data",
          "data": {
            "text/html": [
              "<pre>| 4       | 49.78s       | 2.02549           | 1.16778               | 0.00863167  |</pre>"
            ],
            "text/plain": [
              "| 4       | 49.78s       | 2.02549           | 1.16778               | 0.00863167  |"
            ]
          },
          "metadata": {}
        },
        {
          "output_type": "display_data",
          "data": {
            "text/html": [
              "<pre>| 5       | 1m 1s        | 1.97147           | 1.15113               | 0.00730151  |</pre>"
            ],
            "text/plain": [
              "| 5       | 1m 1s        | 1.97147           | 1.15113               | 0.00730151  |"
            ]
          },
          "metadata": {}
        },
        {
          "output_type": "display_data",
          "data": {
            "text/html": [
              "<pre>| 7       | 1m 26s       | 1.90518           | 1.12998               | 0.00567305  |</pre>"
            ],
            "text/plain": [
              "| 7       | 1m 26s       | 1.90518           | 1.12998               | 0.00567305  |"
            ]
          },
          "metadata": {}
        },
        {
          "output_type": "display_data",
          "data": {
            "text/html": [
              "<pre>| 8       | 1m 37s       | 1.88309           | 1.12313               | 0.00513242  |</pre>"
            ],
            "text/plain": [
              "| 8       | 1m 37s       | 1.88309           | 1.12313               | 0.00513242  |"
            ]
          },
          "metadata": {}
        },
        {
          "output_type": "display_data",
          "data": {
            "text/html": [
              "<pre>| 9       | 1m 49s       | 1.86783           | 1.11778               | 0.00469849  |</pre>"
            ],
            "text/plain": [
              "| 9       | 1m 49s       | 1.86783           | 1.11778               | 0.00469849  |"
            ]
          },
          "metadata": {}
        },
        {
          "output_type": "display_data",
          "data": {
            "text/html": [
              "<pre>| 10      | 2m 0s        | 1.85241           | 1.11286               | 0.0043415   |</pre>"
            ],
            "text/plain": [
              "| 10      | 2m 0s        | 1.85241           | 1.11286               | 0.0043415   |"
            ]
          },
          "metadata": {}
        },
        {
          "output_type": "display_data",
          "data": {
            "text/html": [
              "<pre>| 11      | 2m 10s       | 1.84091           | 1.109                 | 0.00404199  |</pre>"
            ],
            "text/plain": [
              "| 11      | 2m 10s       | 1.84091           | 1.109                 | 0.00404199  |"
            ]
          },
          "metadata": {}
        },
        {
          "output_type": "display_data",
          "data": {
            "text/html": [
              "<pre>| 12      | 2m 21s       | 1.83074           | 1.1058                | 0.00378664  |</pre>"
            ],
            "text/plain": [
              "| 12      | 2m 21s       | 1.83074           | 1.1058                | 0.00378664  |"
            ]
          },
          "metadata": {}
        },
        {
          "output_type": "display_data",
          "data": {
            "text/html": [
              "<pre>| 13      | 2m 32s       | 1.82127           | 1.10231               | 0.00356601  |</pre>"
            ],
            "text/plain": [
              "| 13      | 2m 32s       | 1.82127           | 1.10231               | 0.00356601  |"
            ]
          },
          "metadata": {}
        },
        {
          "output_type": "display_data",
          "data": {
            "text/html": [
              "<pre>| 14      | 2m 43s       | 1.81477           | 1.10005               | 0.00337322  |</pre>"
            ],
            "text/plain": [
              "| 14      | 2m 43s       | 1.81477           | 1.10005               | 0.00337322  |"
            ]
          },
          "metadata": {}
        },
        {
          "output_type": "display_data",
          "data": {
            "text/html": [
              "<pre>| 15      | 2m 53s       | 1.80777           | 1.09767               | 0.00320311  |</pre>"
            ],
            "text/plain": [
              "| 15      | 2m 53s       | 1.80777           | 1.09767               | 0.00320311  |"
            ]
          },
          "metadata": {}
        },
        {
          "output_type": "display_data",
          "data": {
            "text/html": [
              "<pre>| 16      | 3m 4s        | 1.80084           | 1.09553               | 0.00305176  |</pre>"
            ],
            "text/plain": [
              "| 16      | 3m 4s        | 1.80084           | 1.09553               | 0.00305176  |"
            ]
          },
          "metadata": {}
        },
        {
          "output_type": "display_data",
          "data": {
            "text/html": [
              "<pre>| 17      | 3m 15s       | 1.79441           | 1.09324               | 0.00291611  |</pre>"
            ],
            "text/plain": [
              "| 17      | 3m 15s       | 1.79441           | 1.09324               | 0.00291611  |"
            ]
          },
          "metadata": {}
        },
        {
          "output_type": "display_data",
          "data": {
            "text/html": [
              "<pre>| 18      | 3m 25s       | 1.79061           | 1.09197               | 0.00279374  |</pre>"
            ],
            "text/plain": [
              "| 18      | 3m 25s       | 1.79061           | 1.09197               | 0.00279374  |"
            ]
          },
          "metadata": {}
        },
        {
          "output_type": "display_data",
          "data": {
            "text/html": [
              "<pre>| 19      | 3m 36s       | 1.78532           | 1.09012               | 0.00268272  |</pre>"
            ],
            "text/plain": [
              "| 19      | 3m 36s       | 1.78532           | 1.09012               | 0.00268272  |"
            ]
          },
          "metadata": {}
        },
        {
          "output_type": "display_data",
          "data": {
            "text/html": [
              "<pre>| 20      | 3m 47s       | 1.78083           | 1.08869               | 0.00258147  |</pre>"
            ],
            "text/plain": [
              "| 20      | 3m 47s       | 1.78083           | 1.08869               | 0.00258147  |"
            ]
          },
          "metadata": {}
        },
        {
          "output_type": "display_data",
          "data": {
            "text/html": [
              "<pre>| 21      | 3m 57s       | 1.77754           | 1.08759               | 0.00248872  |</pre>"
            ],
            "text/plain": [
              "| 21      | 3m 57s       | 1.77754           | 1.08759               | 0.00248872  |"
            ]
          },
          "metadata": {}
        },
        {
          "output_type": "display_data",
          "data": {
            "text/html": [
              "<pre>| 22      | 4m 8s        | 1.77377           | 1.08627               | 0.00240338  |</pre>"
            ],
            "text/plain": [
              "| 22      | 4m 8s        | 1.77377           | 1.08627               | 0.00240338  |"
            ]
          },
          "metadata": {}
        },
        {
          "output_type": "display_data",
          "data": {
            "text/html": [
              "<pre>| 23      | 4m 18s       | 1.7713            | 1.08523               | 0.00232458  |</pre>"
            ],
            "text/plain": [
              "| 23      | 4m 18s       | 1.7713            | 1.08523               | 0.00232458  |"
            ]
          },
          "metadata": {}
        },
        {
          "output_type": "display_data",
          "data": {
            "text/html": [
              "<pre>| 24      | 4m 29s       | 1.76708           | 1.08396               | 0.00225155  |</pre>"
            ],
            "text/plain": [
              "| 24      | 4m 29s       | 1.76708           | 1.08396               | 0.00225155  |"
            ]
          },
          "metadata": {}
        },
        {
          "output_type": "display_data",
          "data": {
            "text/html": [
              "<pre>| 25      | 4m 40s       | 1.76457           | 1.08305               | 0.00218366  |</pre>"
            ],
            "text/plain": [
              "| 25      | 4m 40s       | 1.76457           | 1.08305               | 0.00218366  |"
            ]
          },
          "metadata": {}
        },
        {
          "output_type": "display_data",
          "data": {
            "text/html": [
              "<pre>+---------+--------------+-------------------+-----------------------+-------------+</pre>"
            ],
            "text/plain": [
              "+---------+--------------+-------------------+-----------------------+-------------+"
            ]
          },
          "metadata": {}
        },
        {
          "output_type": "display_data",
          "data": {
            "text/html": [
              "<pre>Optimization Complete: Maximum number of passes through the data reached.</pre>"
            ],
            "text/plain": [
              "Optimization Complete: Maximum number of passes through the data reached."
            ]
          },
          "metadata": {}
        },
        {
          "output_type": "display_data",
          "data": {
            "text/html": [
              "<pre>Computing final objective value and training RMSE.</pre>"
            ],
            "text/plain": [
              "Computing final objective value and training RMSE."
            ]
          },
          "metadata": {}
        },
        {
          "output_type": "display_data",
          "data": {
            "text/html": [
              "<pre>       Final objective value: 1.73805</pre>"
            ],
            "text/plain": [
              "       Final objective value: 1.73805"
            ]
          },
          "metadata": {}
        },
        {
          "output_type": "display_data",
          "data": {
            "text/html": [
              "<pre>       Final training RMSE: 1.05944</pre>"
            ],
            "text/plain": [
              "       Final training RMSE: 1.05944"
            ]
          },
          "metadata": {}
        },
        {
          "output_type": "stream",
          "name": "stdout",
          "text": [
            "PROGRESS: Evaluate model ItemSimilarityRecommender\n",
            "\n",
            "Overall RMSE: 7.7099469289916875\n",
            "\n",
            "Per User RMSE (best)\n",
            "+---------+-------------------+-------+\n",
            "| user_id |        rmse       | count |\n",
            "+---------+-------------------+-------+\n",
            "|   650   | 4.734177542465517 |   24  |\n",
            "+---------+-------------------+-------+\n",
            "[1 rows x 3 columns]\n",
            "\n",
            "\n",
            "Per User RMSE (worst)\n",
            "+---------+------+-------+\n",
            "| user_id | rmse | count |\n",
            "+---------+------+-------+\n",
            "|  13885  | 10.0 |   1   |\n",
            "+---------+------+-------+\n",
            "[1 rows x 3 columns]\n",
            "\n",
            "\n",
            "Per Item RMSE (best)\n",
            "+----------+--------------------+-------+\n",
            "| anime_id |        rmse        | count |\n",
            "+----------+--------------------+-------+\n",
            "|  29777   | 0.9922171144613198 |   1   |\n",
            "+----------+--------------------+-------+\n",
            "[1 rows x 3 columns]\n",
            "\n",
            "\n",
            "Per Item RMSE (worst)\n",
            "+----------+------+-------+\n",
            "| anime_id | rmse | count |\n",
            "+----------+------+-------+\n",
            "|  34547   | 10.0 |   1   |\n",
            "+----------+------+-------+\n",
            "[1 rows x 3 columns]\n",
            "\n",
            "PROGRESS: Evaluate model FactorizationRecommender\n",
            "\n",
            "Overall RMSE: 1.1104226219237132\n",
            "\n",
            "Per User RMSE (best)\n",
            "+---------+----------------------+-------+\n",
            "| user_id |         rmse         | count |\n",
            "+---------+----------------------+-------+\n",
            "|   8262  | 0.036919242296844956 |   1   |\n",
            "+---------+----------------------+-------+\n",
            "[1 rows x 3 columns]\n",
            "\n",
            "\n",
            "Per User RMSE (worst)\n",
            "+---------+------------------+-------+\n",
            "| user_id |       rmse       | count |\n",
            "+---------+------------------+-------+\n",
            "|  18737  | 4.20326620418051 |   3   |\n",
            "+---------+------------------+-------+\n",
            "[1 rows x 3 columns]\n",
            "\n",
            "\n",
            "Per Item RMSE (best)\n",
            "+----------+-----------------------+-------+\n",
            "| anime_id |          rmse         | count |\n",
            "+----------+-----------------------+-------+\n",
            "|  10823   | 0.0004821954625544578 |   1   |\n",
            "+----------+-----------------------+-------+\n",
            "[1 rows x 3 columns]\n",
            "\n",
            "\n",
            "Per Item RMSE (worst)\n",
            "+----------+------------------+-------+\n",
            "| anime_id |       rmse       | count |\n",
            "+----------+------------------+-------+\n",
            "|  36803   | 6.74159521743235 |   1   |\n",
            "+----------+------------------+-------+\n",
            "[1 rows x 3 columns]\n",
            "\n",
            "PROGRESS: Evaluate model RankingFactorizationRecommender\n",
            "\n",
            "Overall RMSE: 1.2263654663231467\n",
            "\n",
            "Per User RMSE (best)\n",
            "+---------+---------------------+-------+\n",
            "| user_id |         rmse        | count |\n",
            "+---------+---------------------+-------+\n",
            "|  40789  | 0.04790974274694548 |   1   |\n",
            "+---------+---------------------+-------+\n",
            "[1 rows x 3 columns]\n",
            "\n",
            "\n",
            "Per User RMSE (worst)\n",
            "+---------+-------------------+-------+\n",
            "| user_id |        rmse       | count |\n",
            "+---------+-------------------+-------+\n",
            "|  50339  | 4.692469680956352 |   2   |\n",
            "+---------+-------------------+-------+\n",
            "[1 rows x 3 columns]\n",
            "\n",
            "\n",
            "Per Item RMSE (best)\n",
            "+----------+-----------------------+-------+\n",
            "| anime_id |          rmse         | count |\n",
            "+----------+-----------------------+-------+\n",
            "|   526    | 0.0006735561746396002 |   1   |\n",
            "+----------+-----------------------+-------+\n",
            "[1 rows x 3 columns]\n",
            "\n",
            "\n",
            "Per Item RMSE (worst)\n",
            "+----------+-------------------+-------+\n",
            "| anime_id |        rmse       | count |\n",
            "+----------+-------------------+-------+\n",
            "|   9328   | 9.047118312273618 |   1   |\n",
            "+----------+-------------------+-------+\n",
            "[1 rows x 3 columns]\n",
            "\n",
            "Model: ItemSimilarityRecommender\n",
            "Overall RMSE: 7.7099469289916875\n",
            "\n",
            "Model: FactorizationRecommender\n",
            "Overall RMSE: 1.1104226219237132\n",
            "\n",
            "Model: RankingFactorizationRecommender\n",
            "Overall RMSE: 1.2263654663231467\n",
            "\n"
          ]
        }
      ]
    },
    {
      "cell_type": "markdown",
      "metadata": {
        "id": "HRopzC7VdOM9"
      },
      "source": [
        "## 参考文献\n",
        "\n",
        "- [Turi Createによるアニメのレコメンド｜npaka｜note](https://note.com/npaka/n/naf3b46f598ab)\n",
        "- [Recommender Systems · GitBook](https://apple.github.io/turicreate/docs/userguide/recommender/)\n",
        "- [Building a Recommendation System with Turi Create | by Njeri Gachago | Analytics Vidhya | Medium](https://medium.com/analytics-vidhya/building-a-recommendation-system-with-turi-create-938be5fea671)"
      ]
    }
  ]
}